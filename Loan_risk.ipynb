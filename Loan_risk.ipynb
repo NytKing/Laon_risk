{
  "nbformat": 4,
  "nbformat_minor": 0,
  "metadata": {
    "colab": {
      "name": "Loan_risk",
      "provenance": [],
      "authorship_tag": "ABX9TyMMlwnkQQ2qPuEFQ4/v/2eC",
      "include_colab_link": true
    },
    "kernelspec": {
      "name": "python3",
      "display_name": "Python 3"
    },
    "language_info": {
      "name": "python"
    }
  },
  "cells": [
    {
      "cell_type": "markdown",
      "metadata": {
        "id": "view-in-github",
        "colab_type": "text"
      },
      "source": [
        "<a href=\"https://colab.research.google.com/github/NytKing/Loan_risk/blob/main/Loan_risk.ipynb\" target=\"_parent\"><img src=\"https://colab.research.google.com/assets/colab-badge.svg\" alt=\"Open In Colab\"/></a>"
      ]
    },
    {
      "cell_type": "markdown",
      "source": [
        "Today I will be trying to build a model that can predict if a person who is applying for loan is going to default or not. This model will be helpful for organizations to save revenue, and minimize cash burn. "
      ],
      "metadata": {
        "id": "WpYhSisEZDaN"
      }
    },
    {
      "cell_type": "markdown",
      "source": [
        "Firstly I will load the dataset, which is in github repository to goggle colab"
      ],
      "metadata": {
        "id": "g4-MXH9VZqXF"
      }
    },
    {
      "cell_type": "code",
      "execution_count": null,
      "metadata": {
        "id": "t9gpdylJ6kma"
      },
      "outputs": [],
      "source": [
        "import seaborn as sns\n",
        "import numpy as np\n",
        "import matplotlib.pyplot as plt\n",
        "from sklearn.model_selection import train_test_split\n",
        "import pandas as pd\n",
        "from sklearn import preprocessing\n",
        "from sklearn.linear_model import LogisticRegression\n",
        "from sklearn.metrics import classification_report,confusion_matrix\n",
        "from imblearn.over_sampling import SMOTE\n",
        "from imblearn.under_sampling import NearMiss\n",
        "loan_risk=pd.read_csv(\"https://raw.githubusercontent.com/NytKing/Laon_risk/main/credit_risk_dataset.csv\")"
      ]
    },
    {
      "cell_type": "code",
      "source": [
        "loan_risk"
      ],
      "metadata": {
        "colab": {
          "base_uri": "https://localhost:8080/",
          "height": 488
        },
        "id": "P0AL6yOSZ4lw",
        "outputId": "d1b1b92c-4bb1-467f-a2c1-c9eda7ccd077"
      },
      "execution_count": null,
      "outputs": [
        {
          "output_type": "execute_result",
          "data": {
            "text/plain": [
              "       person_age  person_income person_home_ownership  person_emp_length  \\\n",
              "0              22          59000                  RENT              123.0   \n",
              "1              21           9600                   OWN                5.0   \n",
              "2              25           9600              MORTGAGE                1.0   \n",
              "3              23          65500                  RENT                4.0   \n",
              "4              24          54400                  RENT                8.0   \n",
              "...           ...            ...                   ...                ...   \n",
              "32576          57          53000              MORTGAGE                1.0   \n",
              "32577          54         120000              MORTGAGE                4.0   \n",
              "32578          65          76000                  RENT                3.0   \n",
              "32579          56         150000              MORTGAGE                5.0   \n",
              "32580          66          42000                  RENT                2.0   \n",
              "\n",
              "           loan_intent loan_grade  loan_amnt  loan_int_rate  loan_status  \\\n",
              "0             PERSONAL          D      35000          16.02            1   \n",
              "1            EDUCATION          B       1000          11.14            0   \n",
              "2              MEDICAL          C       5500          12.87            1   \n",
              "3              MEDICAL          C      35000          15.23            1   \n",
              "4              MEDICAL          C      35000          14.27            1   \n",
              "...                ...        ...        ...            ...          ...   \n",
              "32576         PERSONAL          C       5800          13.16            0   \n",
              "32577         PERSONAL          A      17625           7.49            0   \n",
              "32578  HOMEIMPROVEMENT          B      35000          10.99            1   \n",
              "32579         PERSONAL          B      15000          11.48            0   \n",
              "32580          MEDICAL          B       6475           9.99            0   \n",
              "\n",
              "       loan_percent_income cb_person_default_on_file  \\\n",
              "0                     0.59                         Y   \n",
              "1                     0.10                         N   \n",
              "2                     0.57                         N   \n",
              "3                     0.53                         N   \n",
              "4                     0.55                         Y   \n",
              "...                    ...                       ...   \n",
              "32576                 0.11                         N   \n",
              "32577                 0.15                         N   \n",
              "32578                 0.46                         N   \n",
              "32579                 0.10                         N   \n",
              "32580                 0.15                         N   \n",
              "\n",
              "       cb_person_cred_hist_length  \n",
              "0                               3  \n",
              "1                               2  \n",
              "2                               3  \n",
              "3                               2  \n",
              "4                               4  \n",
              "...                           ...  \n",
              "32576                          30  \n",
              "32577                          19  \n",
              "32578                          28  \n",
              "32579                          26  \n",
              "32580                          30  \n",
              "\n",
              "[32581 rows x 12 columns]"
            ],
            "text/html": [
              "\n",
              "  <div id=\"df-b4b12f3e-6f00-4613-88fd-ea9713c81e22\">\n",
              "    <div class=\"colab-df-container\">\n",
              "      <div>\n",
              "<style scoped>\n",
              "    .dataframe tbody tr th:only-of-type {\n",
              "        vertical-align: middle;\n",
              "    }\n",
              "\n",
              "    .dataframe tbody tr th {\n",
              "        vertical-align: top;\n",
              "    }\n",
              "\n",
              "    .dataframe thead th {\n",
              "        text-align: right;\n",
              "    }\n",
              "</style>\n",
              "<table border=\"1\" class=\"dataframe\">\n",
              "  <thead>\n",
              "    <tr style=\"text-align: right;\">\n",
              "      <th></th>\n",
              "      <th>person_age</th>\n",
              "      <th>person_income</th>\n",
              "      <th>person_home_ownership</th>\n",
              "      <th>person_emp_length</th>\n",
              "      <th>loan_intent</th>\n",
              "      <th>loan_grade</th>\n",
              "      <th>loan_amnt</th>\n",
              "      <th>loan_int_rate</th>\n",
              "      <th>loan_status</th>\n",
              "      <th>loan_percent_income</th>\n",
              "      <th>cb_person_default_on_file</th>\n",
              "      <th>cb_person_cred_hist_length</th>\n",
              "    </tr>\n",
              "  </thead>\n",
              "  <tbody>\n",
              "    <tr>\n",
              "      <th>0</th>\n",
              "      <td>22</td>\n",
              "      <td>59000</td>\n",
              "      <td>RENT</td>\n",
              "      <td>123.0</td>\n",
              "      <td>PERSONAL</td>\n",
              "      <td>D</td>\n",
              "      <td>35000</td>\n",
              "      <td>16.02</td>\n",
              "      <td>1</td>\n",
              "      <td>0.59</td>\n",
              "      <td>Y</td>\n",
              "      <td>3</td>\n",
              "    </tr>\n",
              "    <tr>\n",
              "      <th>1</th>\n",
              "      <td>21</td>\n",
              "      <td>9600</td>\n",
              "      <td>OWN</td>\n",
              "      <td>5.0</td>\n",
              "      <td>EDUCATION</td>\n",
              "      <td>B</td>\n",
              "      <td>1000</td>\n",
              "      <td>11.14</td>\n",
              "      <td>0</td>\n",
              "      <td>0.10</td>\n",
              "      <td>N</td>\n",
              "      <td>2</td>\n",
              "    </tr>\n",
              "    <tr>\n",
              "      <th>2</th>\n",
              "      <td>25</td>\n",
              "      <td>9600</td>\n",
              "      <td>MORTGAGE</td>\n",
              "      <td>1.0</td>\n",
              "      <td>MEDICAL</td>\n",
              "      <td>C</td>\n",
              "      <td>5500</td>\n",
              "      <td>12.87</td>\n",
              "      <td>1</td>\n",
              "      <td>0.57</td>\n",
              "      <td>N</td>\n",
              "      <td>3</td>\n",
              "    </tr>\n",
              "    <tr>\n",
              "      <th>3</th>\n",
              "      <td>23</td>\n",
              "      <td>65500</td>\n",
              "      <td>RENT</td>\n",
              "      <td>4.0</td>\n",
              "      <td>MEDICAL</td>\n",
              "      <td>C</td>\n",
              "      <td>35000</td>\n",
              "      <td>15.23</td>\n",
              "      <td>1</td>\n",
              "      <td>0.53</td>\n",
              "      <td>N</td>\n",
              "      <td>2</td>\n",
              "    </tr>\n",
              "    <tr>\n",
              "      <th>4</th>\n",
              "      <td>24</td>\n",
              "      <td>54400</td>\n",
              "      <td>RENT</td>\n",
              "      <td>8.0</td>\n",
              "      <td>MEDICAL</td>\n",
              "      <td>C</td>\n",
              "      <td>35000</td>\n",
              "      <td>14.27</td>\n",
              "      <td>1</td>\n",
              "      <td>0.55</td>\n",
              "      <td>Y</td>\n",
              "      <td>4</td>\n",
              "    </tr>\n",
              "    <tr>\n",
              "      <th>...</th>\n",
              "      <td>...</td>\n",
              "      <td>...</td>\n",
              "      <td>...</td>\n",
              "      <td>...</td>\n",
              "      <td>...</td>\n",
              "      <td>...</td>\n",
              "      <td>...</td>\n",
              "      <td>...</td>\n",
              "      <td>...</td>\n",
              "      <td>...</td>\n",
              "      <td>...</td>\n",
              "      <td>...</td>\n",
              "    </tr>\n",
              "    <tr>\n",
              "      <th>32576</th>\n",
              "      <td>57</td>\n",
              "      <td>53000</td>\n",
              "      <td>MORTGAGE</td>\n",
              "      <td>1.0</td>\n",
              "      <td>PERSONAL</td>\n",
              "      <td>C</td>\n",
              "      <td>5800</td>\n",
              "      <td>13.16</td>\n",
              "      <td>0</td>\n",
              "      <td>0.11</td>\n",
              "      <td>N</td>\n",
              "      <td>30</td>\n",
              "    </tr>\n",
              "    <tr>\n",
              "      <th>32577</th>\n",
              "      <td>54</td>\n",
              "      <td>120000</td>\n",
              "      <td>MORTGAGE</td>\n",
              "      <td>4.0</td>\n",
              "      <td>PERSONAL</td>\n",
              "      <td>A</td>\n",
              "      <td>17625</td>\n",
              "      <td>7.49</td>\n",
              "      <td>0</td>\n",
              "      <td>0.15</td>\n",
              "      <td>N</td>\n",
              "      <td>19</td>\n",
              "    </tr>\n",
              "    <tr>\n",
              "      <th>32578</th>\n",
              "      <td>65</td>\n",
              "      <td>76000</td>\n",
              "      <td>RENT</td>\n",
              "      <td>3.0</td>\n",
              "      <td>HOMEIMPROVEMENT</td>\n",
              "      <td>B</td>\n",
              "      <td>35000</td>\n",
              "      <td>10.99</td>\n",
              "      <td>1</td>\n",
              "      <td>0.46</td>\n",
              "      <td>N</td>\n",
              "      <td>28</td>\n",
              "    </tr>\n",
              "    <tr>\n",
              "      <th>32579</th>\n",
              "      <td>56</td>\n",
              "      <td>150000</td>\n",
              "      <td>MORTGAGE</td>\n",
              "      <td>5.0</td>\n",
              "      <td>PERSONAL</td>\n",
              "      <td>B</td>\n",
              "      <td>15000</td>\n",
              "      <td>11.48</td>\n",
              "      <td>0</td>\n",
              "      <td>0.10</td>\n",
              "      <td>N</td>\n",
              "      <td>26</td>\n",
              "    </tr>\n",
              "    <tr>\n",
              "      <th>32580</th>\n",
              "      <td>66</td>\n",
              "      <td>42000</td>\n",
              "      <td>RENT</td>\n",
              "      <td>2.0</td>\n",
              "      <td>MEDICAL</td>\n",
              "      <td>B</td>\n",
              "      <td>6475</td>\n",
              "      <td>9.99</td>\n",
              "      <td>0</td>\n",
              "      <td>0.15</td>\n",
              "      <td>N</td>\n",
              "      <td>30</td>\n",
              "    </tr>\n",
              "  </tbody>\n",
              "</table>\n",
              "<p>32581 rows × 12 columns</p>\n",
              "</div>\n",
              "      <button class=\"colab-df-convert\" onclick=\"convertToInteractive('df-b4b12f3e-6f00-4613-88fd-ea9713c81e22')\"\n",
              "              title=\"Convert this dataframe to an interactive table.\"\n",
              "              style=\"display:none;\">\n",
              "        \n",
              "  <svg xmlns=\"http://www.w3.org/2000/svg\" height=\"24px\"viewBox=\"0 0 24 24\"\n",
              "       width=\"24px\">\n",
              "    <path d=\"M0 0h24v24H0V0z\" fill=\"none\"/>\n",
              "    <path d=\"M18.56 5.44l.94 2.06.94-2.06 2.06-.94-2.06-.94-.94-2.06-.94 2.06-2.06.94zm-11 1L8.5 8.5l.94-2.06 2.06-.94-2.06-.94L8.5 2.5l-.94 2.06-2.06.94zm10 10l.94 2.06.94-2.06 2.06-.94-2.06-.94-.94-2.06-.94 2.06-2.06.94z\"/><path d=\"M17.41 7.96l-1.37-1.37c-.4-.4-.92-.59-1.43-.59-.52 0-1.04.2-1.43.59L10.3 9.45l-7.72 7.72c-.78.78-.78 2.05 0 2.83L4 21.41c.39.39.9.59 1.41.59.51 0 1.02-.2 1.41-.59l7.78-7.78 2.81-2.81c.8-.78.8-2.07 0-2.86zM5.41 20L4 18.59l7.72-7.72 1.47 1.35L5.41 20z\"/>\n",
              "  </svg>\n",
              "      </button>\n",
              "      \n",
              "  <style>\n",
              "    .colab-df-container {\n",
              "      display:flex;\n",
              "      flex-wrap:wrap;\n",
              "      gap: 12px;\n",
              "    }\n",
              "\n",
              "    .colab-df-convert {\n",
              "      background-color: #E8F0FE;\n",
              "      border: none;\n",
              "      border-radius: 50%;\n",
              "      cursor: pointer;\n",
              "      display: none;\n",
              "      fill: #1967D2;\n",
              "      height: 32px;\n",
              "      padding: 0 0 0 0;\n",
              "      width: 32px;\n",
              "    }\n",
              "\n",
              "    .colab-df-convert:hover {\n",
              "      background-color: #E2EBFA;\n",
              "      box-shadow: 0px 1px 2px rgba(60, 64, 67, 0.3), 0px 1px 3px 1px rgba(60, 64, 67, 0.15);\n",
              "      fill: #174EA6;\n",
              "    }\n",
              "\n",
              "    [theme=dark] .colab-df-convert {\n",
              "      background-color: #3B4455;\n",
              "      fill: #D2E3FC;\n",
              "    }\n",
              "\n",
              "    [theme=dark] .colab-df-convert:hover {\n",
              "      background-color: #434B5C;\n",
              "      box-shadow: 0px 1px 3px 1px rgba(0, 0, 0, 0.15);\n",
              "      filter: drop-shadow(0px 1px 2px rgba(0, 0, 0, 0.3));\n",
              "      fill: #FFFFFF;\n",
              "    }\n",
              "  </style>\n",
              "\n",
              "      <script>\n",
              "        const buttonEl =\n",
              "          document.querySelector('#df-b4b12f3e-6f00-4613-88fd-ea9713c81e22 button.colab-df-convert');\n",
              "        buttonEl.style.display =\n",
              "          google.colab.kernel.accessAllowed ? 'block' : 'none';\n",
              "\n",
              "        async function convertToInteractive(key) {\n",
              "          const element = document.querySelector('#df-b4b12f3e-6f00-4613-88fd-ea9713c81e22');\n",
              "          const dataTable =\n",
              "            await google.colab.kernel.invokeFunction('convertToInteractive',\n",
              "                                                     [key], {});\n",
              "          if (!dataTable) return;\n",
              "\n",
              "          const docLinkHtml = 'Like what you see? Visit the ' +\n",
              "            '<a target=\"_blank\" href=https://colab.research.google.com/notebooks/data_table.ipynb>data table notebook</a>'\n",
              "            + ' to learn more about interactive tables.';\n",
              "          element.innerHTML = '';\n",
              "          dataTable['output_type'] = 'display_data';\n",
              "          await google.colab.output.renderOutput(dataTable, element);\n",
              "          const docLink = document.createElement('div');\n",
              "          docLink.innerHTML = docLinkHtml;\n",
              "          element.appendChild(docLink);\n",
              "        }\n",
              "      </script>\n",
              "    </div>\n",
              "  </div>\n",
              "  "
            ]
          },
          "metadata": {},
          "execution_count": 122
        }
      ]
    },
    {
      "cell_type": "markdown",
      "source": [
        "Now, as we can see from the above code that we have successfully imported the dataset from github, we need to explore the dataset."
      ],
      "metadata": {
        "id": "1Yeua8koaDBr"
      }
    },
    {
      "cell_type": "code",
      "source": [
        "#checking number of rows and column of the dataset\n",
        "loan_risk.shape"
      ],
      "metadata": {
        "colab": {
          "base_uri": "https://localhost:8080/"
        },
        "id": "z-o7b1IfkCbZ",
        "outputId": "0ba13a97-12c9-4235-fa5d-4d5bdb811014"
      },
      "execution_count": null,
      "outputs": [
        {
          "output_type": "execute_result",
          "data": {
            "text/plain": [
              "(32581, 12)"
            ]
          },
          "metadata": {},
          "execution_count": 123
        }
      ]
    },
    {
      "cell_type": "code",
      "source": [
        "#Checking for the types of data present in each column of the dataframe, string variables will be outputted as object\n",
        "loan_risk.dtypes"
      ],
      "metadata": {
        "colab": {
          "base_uri": "https://localhost:8080/"
        },
        "id": "oKZQItOgaAMK",
        "outputId": "874be27f-b650-4820-d9cc-55d137990a6a"
      },
      "execution_count": null,
      "outputs": [
        {
          "output_type": "execute_result",
          "data": {
            "text/plain": [
              "person_age                      int64\n",
              "person_income                   int64\n",
              "person_home_ownership          object\n",
              "person_emp_length             float64\n",
              "loan_intent                    object\n",
              "loan_grade                     object\n",
              "loan_amnt                       int64\n",
              "loan_int_rate                 float64\n",
              "loan_status                     int64\n",
              "loan_percent_income           float64\n",
              "cb_person_default_on_file      object\n",
              "cb_person_cred_hist_length      int64\n",
              "dtype: object"
            ]
          },
          "metadata": {},
          "execution_count": 124
        }
      ]
    },
    {
      "cell_type": "markdown",
      "source": [
        "When I observe the output of the preivous code I find that the target variable loan_status is in showhere in the middle of the dataset, I would like to switch it as the last column, for my convinience.\n",
        "\n",
        "\n",
        "\n",
        "\n",
        "\n",
        "\n"
      ],
      "metadata": {
        "id": "_tzWHlvDd6Fp"
      }
    },
    {
      "cell_type": "code",
      "source": [
        "#Initially, I will look at the columns in the df and will re-index them manually\n",
        "loan_risk.columns\n",
        "loan_risk = loan_risk.reindex(columns=['person_age', 'person_income', 'person_home_ownership',\n",
        "       'person_emp_length', 'loan_intent', 'loan_grade', 'loan_amnt',\n",
        "       'loan_int_rate','loan_percent_income',\n",
        "       'cb_person_default_on_file', 'cb_person_cred_hist_length','loan_status'])"
      ],
      "metadata": {
        "id": "PIPjhvlSeP3f"
      },
      "execution_count": null,
      "outputs": []
    },
    {
      "cell_type": "markdown",
      "source": [
        "Now as we have rearranged the column we will see if the columns have been re-arranged\n"
      ],
      "metadata": {
        "id": "yNuxjW3UgKVT"
      }
    },
    {
      "cell_type": "code",
      "source": [
        "loan_risk\n",
        "# our df has been re-arranged!!"
      ],
      "metadata": {
        "colab": {
          "base_uri": "https://localhost:8080/",
          "height": 488
        },
        "id": "teZtNaUOf8Xa",
        "outputId": "041dd463-ca94-41a4-a3ca-6e67e519c354"
      },
      "execution_count": null,
      "outputs": [
        {
          "output_type": "execute_result",
          "data": {
            "text/plain": [
              "       person_age  person_income person_home_ownership  person_emp_length  \\\n",
              "0              22          59000                  RENT              123.0   \n",
              "1              21           9600                   OWN                5.0   \n",
              "2              25           9600              MORTGAGE                1.0   \n",
              "3              23          65500                  RENT                4.0   \n",
              "4              24          54400                  RENT                8.0   \n",
              "...           ...            ...                   ...                ...   \n",
              "32576          57          53000              MORTGAGE                1.0   \n",
              "32577          54         120000              MORTGAGE                4.0   \n",
              "32578          65          76000                  RENT                3.0   \n",
              "32579          56         150000              MORTGAGE                5.0   \n",
              "32580          66          42000                  RENT                2.0   \n",
              "\n",
              "           loan_intent loan_grade  loan_amnt  loan_int_rate  \\\n",
              "0             PERSONAL          D      35000          16.02   \n",
              "1            EDUCATION          B       1000          11.14   \n",
              "2              MEDICAL          C       5500          12.87   \n",
              "3              MEDICAL          C      35000          15.23   \n",
              "4              MEDICAL          C      35000          14.27   \n",
              "...                ...        ...        ...            ...   \n",
              "32576         PERSONAL          C       5800          13.16   \n",
              "32577         PERSONAL          A      17625           7.49   \n",
              "32578  HOMEIMPROVEMENT          B      35000          10.99   \n",
              "32579         PERSONAL          B      15000          11.48   \n",
              "32580          MEDICAL          B       6475           9.99   \n",
              "\n",
              "       loan_percent_income cb_person_default_on_file  \\\n",
              "0                     0.59                         Y   \n",
              "1                     0.10                         N   \n",
              "2                     0.57                         N   \n",
              "3                     0.53                         N   \n",
              "4                     0.55                         Y   \n",
              "...                    ...                       ...   \n",
              "32576                 0.11                         N   \n",
              "32577                 0.15                         N   \n",
              "32578                 0.46                         N   \n",
              "32579                 0.10                         N   \n",
              "32580                 0.15                         N   \n",
              "\n",
              "       cb_person_cred_hist_length  loan_status  \n",
              "0                               3            1  \n",
              "1                               2            0  \n",
              "2                               3            1  \n",
              "3                               2            1  \n",
              "4                               4            1  \n",
              "...                           ...          ...  \n",
              "32576                          30            0  \n",
              "32577                          19            0  \n",
              "32578                          28            1  \n",
              "32579                          26            0  \n",
              "32580                          30            0  \n",
              "\n",
              "[32581 rows x 12 columns]"
            ],
            "text/html": [
              "\n",
              "  <div id=\"df-ab02ef9d-0e2e-42d4-ad6d-ec26f11c3d06\">\n",
              "    <div class=\"colab-df-container\">\n",
              "      <div>\n",
              "<style scoped>\n",
              "    .dataframe tbody tr th:only-of-type {\n",
              "        vertical-align: middle;\n",
              "    }\n",
              "\n",
              "    .dataframe tbody tr th {\n",
              "        vertical-align: top;\n",
              "    }\n",
              "\n",
              "    .dataframe thead th {\n",
              "        text-align: right;\n",
              "    }\n",
              "</style>\n",
              "<table border=\"1\" class=\"dataframe\">\n",
              "  <thead>\n",
              "    <tr style=\"text-align: right;\">\n",
              "      <th></th>\n",
              "      <th>person_age</th>\n",
              "      <th>person_income</th>\n",
              "      <th>person_home_ownership</th>\n",
              "      <th>person_emp_length</th>\n",
              "      <th>loan_intent</th>\n",
              "      <th>loan_grade</th>\n",
              "      <th>loan_amnt</th>\n",
              "      <th>loan_int_rate</th>\n",
              "      <th>loan_percent_income</th>\n",
              "      <th>cb_person_default_on_file</th>\n",
              "      <th>cb_person_cred_hist_length</th>\n",
              "      <th>loan_status</th>\n",
              "    </tr>\n",
              "  </thead>\n",
              "  <tbody>\n",
              "    <tr>\n",
              "      <th>0</th>\n",
              "      <td>22</td>\n",
              "      <td>59000</td>\n",
              "      <td>RENT</td>\n",
              "      <td>123.0</td>\n",
              "      <td>PERSONAL</td>\n",
              "      <td>D</td>\n",
              "      <td>35000</td>\n",
              "      <td>16.02</td>\n",
              "      <td>0.59</td>\n",
              "      <td>Y</td>\n",
              "      <td>3</td>\n",
              "      <td>1</td>\n",
              "    </tr>\n",
              "    <tr>\n",
              "      <th>1</th>\n",
              "      <td>21</td>\n",
              "      <td>9600</td>\n",
              "      <td>OWN</td>\n",
              "      <td>5.0</td>\n",
              "      <td>EDUCATION</td>\n",
              "      <td>B</td>\n",
              "      <td>1000</td>\n",
              "      <td>11.14</td>\n",
              "      <td>0.10</td>\n",
              "      <td>N</td>\n",
              "      <td>2</td>\n",
              "      <td>0</td>\n",
              "    </tr>\n",
              "    <tr>\n",
              "      <th>2</th>\n",
              "      <td>25</td>\n",
              "      <td>9600</td>\n",
              "      <td>MORTGAGE</td>\n",
              "      <td>1.0</td>\n",
              "      <td>MEDICAL</td>\n",
              "      <td>C</td>\n",
              "      <td>5500</td>\n",
              "      <td>12.87</td>\n",
              "      <td>0.57</td>\n",
              "      <td>N</td>\n",
              "      <td>3</td>\n",
              "      <td>1</td>\n",
              "    </tr>\n",
              "    <tr>\n",
              "      <th>3</th>\n",
              "      <td>23</td>\n",
              "      <td>65500</td>\n",
              "      <td>RENT</td>\n",
              "      <td>4.0</td>\n",
              "      <td>MEDICAL</td>\n",
              "      <td>C</td>\n",
              "      <td>35000</td>\n",
              "      <td>15.23</td>\n",
              "      <td>0.53</td>\n",
              "      <td>N</td>\n",
              "      <td>2</td>\n",
              "      <td>1</td>\n",
              "    </tr>\n",
              "    <tr>\n",
              "      <th>4</th>\n",
              "      <td>24</td>\n",
              "      <td>54400</td>\n",
              "      <td>RENT</td>\n",
              "      <td>8.0</td>\n",
              "      <td>MEDICAL</td>\n",
              "      <td>C</td>\n",
              "      <td>35000</td>\n",
              "      <td>14.27</td>\n",
              "      <td>0.55</td>\n",
              "      <td>Y</td>\n",
              "      <td>4</td>\n",
              "      <td>1</td>\n",
              "    </tr>\n",
              "    <tr>\n",
              "      <th>...</th>\n",
              "      <td>...</td>\n",
              "      <td>...</td>\n",
              "      <td>...</td>\n",
              "      <td>...</td>\n",
              "      <td>...</td>\n",
              "      <td>...</td>\n",
              "      <td>...</td>\n",
              "      <td>...</td>\n",
              "      <td>...</td>\n",
              "      <td>...</td>\n",
              "      <td>...</td>\n",
              "      <td>...</td>\n",
              "    </tr>\n",
              "    <tr>\n",
              "      <th>32576</th>\n",
              "      <td>57</td>\n",
              "      <td>53000</td>\n",
              "      <td>MORTGAGE</td>\n",
              "      <td>1.0</td>\n",
              "      <td>PERSONAL</td>\n",
              "      <td>C</td>\n",
              "      <td>5800</td>\n",
              "      <td>13.16</td>\n",
              "      <td>0.11</td>\n",
              "      <td>N</td>\n",
              "      <td>30</td>\n",
              "      <td>0</td>\n",
              "    </tr>\n",
              "    <tr>\n",
              "      <th>32577</th>\n",
              "      <td>54</td>\n",
              "      <td>120000</td>\n",
              "      <td>MORTGAGE</td>\n",
              "      <td>4.0</td>\n",
              "      <td>PERSONAL</td>\n",
              "      <td>A</td>\n",
              "      <td>17625</td>\n",
              "      <td>7.49</td>\n",
              "      <td>0.15</td>\n",
              "      <td>N</td>\n",
              "      <td>19</td>\n",
              "      <td>0</td>\n",
              "    </tr>\n",
              "    <tr>\n",
              "      <th>32578</th>\n",
              "      <td>65</td>\n",
              "      <td>76000</td>\n",
              "      <td>RENT</td>\n",
              "      <td>3.0</td>\n",
              "      <td>HOMEIMPROVEMENT</td>\n",
              "      <td>B</td>\n",
              "      <td>35000</td>\n",
              "      <td>10.99</td>\n",
              "      <td>0.46</td>\n",
              "      <td>N</td>\n",
              "      <td>28</td>\n",
              "      <td>1</td>\n",
              "    </tr>\n",
              "    <tr>\n",
              "      <th>32579</th>\n",
              "      <td>56</td>\n",
              "      <td>150000</td>\n",
              "      <td>MORTGAGE</td>\n",
              "      <td>5.0</td>\n",
              "      <td>PERSONAL</td>\n",
              "      <td>B</td>\n",
              "      <td>15000</td>\n",
              "      <td>11.48</td>\n",
              "      <td>0.10</td>\n",
              "      <td>N</td>\n",
              "      <td>26</td>\n",
              "      <td>0</td>\n",
              "    </tr>\n",
              "    <tr>\n",
              "      <th>32580</th>\n",
              "      <td>66</td>\n",
              "      <td>42000</td>\n",
              "      <td>RENT</td>\n",
              "      <td>2.0</td>\n",
              "      <td>MEDICAL</td>\n",
              "      <td>B</td>\n",
              "      <td>6475</td>\n",
              "      <td>9.99</td>\n",
              "      <td>0.15</td>\n",
              "      <td>N</td>\n",
              "      <td>30</td>\n",
              "      <td>0</td>\n",
              "    </tr>\n",
              "  </tbody>\n",
              "</table>\n",
              "<p>32581 rows × 12 columns</p>\n",
              "</div>\n",
              "      <button class=\"colab-df-convert\" onclick=\"convertToInteractive('df-ab02ef9d-0e2e-42d4-ad6d-ec26f11c3d06')\"\n",
              "              title=\"Convert this dataframe to an interactive table.\"\n",
              "              style=\"display:none;\">\n",
              "        \n",
              "  <svg xmlns=\"http://www.w3.org/2000/svg\" height=\"24px\"viewBox=\"0 0 24 24\"\n",
              "       width=\"24px\">\n",
              "    <path d=\"M0 0h24v24H0V0z\" fill=\"none\"/>\n",
              "    <path d=\"M18.56 5.44l.94 2.06.94-2.06 2.06-.94-2.06-.94-.94-2.06-.94 2.06-2.06.94zm-11 1L8.5 8.5l.94-2.06 2.06-.94-2.06-.94L8.5 2.5l-.94 2.06-2.06.94zm10 10l.94 2.06.94-2.06 2.06-.94-2.06-.94-.94-2.06-.94 2.06-2.06.94z\"/><path d=\"M17.41 7.96l-1.37-1.37c-.4-.4-.92-.59-1.43-.59-.52 0-1.04.2-1.43.59L10.3 9.45l-7.72 7.72c-.78.78-.78 2.05 0 2.83L4 21.41c.39.39.9.59 1.41.59.51 0 1.02-.2 1.41-.59l7.78-7.78 2.81-2.81c.8-.78.8-2.07 0-2.86zM5.41 20L4 18.59l7.72-7.72 1.47 1.35L5.41 20z\"/>\n",
              "  </svg>\n",
              "      </button>\n",
              "      \n",
              "  <style>\n",
              "    .colab-df-container {\n",
              "      display:flex;\n",
              "      flex-wrap:wrap;\n",
              "      gap: 12px;\n",
              "    }\n",
              "\n",
              "    .colab-df-convert {\n",
              "      background-color: #E8F0FE;\n",
              "      border: none;\n",
              "      border-radius: 50%;\n",
              "      cursor: pointer;\n",
              "      display: none;\n",
              "      fill: #1967D2;\n",
              "      height: 32px;\n",
              "      padding: 0 0 0 0;\n",
              "      width: 32px;\n",
              "    }\n",
              "\n",
              "    .colab-df-convert:hover {\n",
              "      background-color: #E2EBFA;\n",
              "      box-shadow: 0px 1px 2px rgba(60, 64, 67, 0.3), 0px 1px 3px 1px rgba(60, 64, 67, 0.15);\n",
              "      fill: #174EA6;\n",
              "    }\n",
              "\n",
              "    [theme=dark] .colab-df-convert {\n",
              "      background-color: #3B4455;\n",
              "      fill: #D2E3FC;\n",
              "    }\n",
              "\n",
              "    [theme=dark] .colab-df-convert:hover {\n",
              "      background-color: #434B5C;\n",
              "      box-shadow: 0px 1px 3px 1px rgba(0, 0, 0, 0.15);\n",
              "      filter: drop-shadow(0px 1px 2px rgba(0, 0, 0, 0.3));\n",
              "      fill: #FFFFFF;\n",
              "    }\n",
              "  </style>\n",
              "\n",
              "      <script>\n",
              "        const buttonEl =\n",
              "          document.querySelector('#df-ab02ef9d-0e2e-42d4-ad6d-ec26f11c3d06 button.colab-df-convert');\n",
              "        buttonEl.style.display =\n",
              "          google.colab.kernel.accessAllowed ? 'block' : 'none';\n",
              "\n",
              "        async function convertToInteractive(key) {\n",
              "          const element = document.querySelector('#df-ab02ef9d-0e2e-42d4-ad6d-ec26f11c3d06');\n",
              "          const dataTable =\n",
              "            await google.colab.kernel.invokeFunction('convertToInteractive',\n",
              "                                                     [key], {});\n",
              "          if (!dataTable) return;\n",
              "\n",
              "          const docLinkHtml = 'Like what you see? Visit the ' +\n",
              "            '<a target=\"_blank\" href=https://colab.research.google.com/notebooks/data_table.ipynb>data table notebook</a>'\n",
              "            + ' to learn more about interactive tables.';\n",
              "          element.innerHTML = '';\n",
              "          dataTable['output_type'] = 'display_data';\n",
              "          await google.colab.output.renderOutput(dataTable, element);\n",
              "          const docLink = document.createElement('div');\n",
              "          docLink.innerHTML = docLinkHtml;\n",
              "          element.appendChild(docLink);\n",
              "        }\n",
              "      </script>\n",
              "    </div>\n",
              "  </div>\n",
              "  "
            ]
          },
          "metadata": {},
          "execution_count": 126
        }
      ]
    },
    {
      "cell_type": "markdown",
      "source": [
        "Since the columns are rearranged, Lets take a look at the outliers now."
      ],
      "metadata": {
        "id": "BWmP5FOhrewS"
      }
    },
    {
      "cell_type": "code",
      "source": [
        "# to identify the outliers I see the summary of the dataset as a whole to make out which column might have outliers\n",
        "loan_risk.describe()"
      ],
      "metadata": {
        "colab": {
          "base_uri": "https://localhost:8080/",
          "height": 300
        },
        "id": "St63lwefrcX_",
        "outputId": "25312cbe-92b7-4625-e391-b1ecd8427d5b"
      },
      "execution_count": null,
      "outputs": [
        {
          "output_type": "execute_result",
          "data": {
            "text/plain": [
              "         person_age  person_income  person_emp_length     loan_amnt  \\\n",
              "count  32581.000000   3.258100e+04       31686.000000  32581.000000   \n",
              "mean      27.734600   6.607485e+04           4.789686   9589.371106   \n",
              "std        6.348078   6.198312e+04           4.142630   6322.086646   \n",
              "min       20.000000   4.000000e+03           0.000000    500.000000   \n",
              "25%       23.000000   3.850000e+04           2.000000   5000.000000   \n",
              "50%       26.000000   5.500000e+04           4.000000   8000.000000   \n",
              "75%       30.000000   7.920000e+04           7.000000  12200.000000   \n",
              "max      144.000000   6.000000e+06         123.000000  35000.000000   \n",
              "\n",
              "       loan_int_rate  loan_percent_income  cb_person_cred_hist_length  \\\n",
              "count   29465.000000         32581.000000                32581.000000   \n",
              "mean       11.011695             0.170203                    5.804211   \n",
              "std         3.240459             0.106782                    4.055001   \n",
              "min         5.420000             0.000000                    2.000000   \n",
              "25%         7.900000             0.090000                    3.000000   \n",
              "50%        10.990000             0.150000                    4.000000   \n",
              "75%        13.470000             0.230000                    8.000000   \n",
              "max        23.220000             0.830000                   30.000000   \n",
              "\n",
              "        loan_status  \n",
              "count  32581.000000  \n",
              "mean       0.218164  \n",
              "std        0.413006  \n",
              "min        0.000000  \n",
              "25%        0.000000  \n",
              "50%        0.000000  \n",
              "75%        0.000000  \n",
              "max        1.000000  "
            ],
            "text/html": [
              "\n",
              "  <div id=\"df-bb632950-85d5-4a51-afce-320b7de7c277\">\n",
              "    <div class=\"colab-df-container\">\n",
              "      <div>\n",
              "<style scoped>\n",
              "    .dataframe tbody tr th:only-of-type {\n",
              "        vertical-align: middle;\n",
              "    }\n",
              "\n",
              "    .dataframe tbody tr th {\n",
              "        vertical-align: top;\n",
              "    }\n",
              "\n",
              "    .dataframe thead th {\n",
              "        text-align: right;\n",
              "    }\n",
              "</style>\n",
              "<table border=\"1\" class=\"dataframe\">\n",
              "  <thead>\n",
              "    <tr style=\"text-align: right;\">\n",
              "      <th></th>\n",
              "      <th>person_age</th>\n",
              "      <th>person_income</th>\n",
              "      <th>person_emp_length</th>\n",
              "      <th>loan_amnt</th>\n",
              "      <th>loan_int_rate</th>\n",
              "      <th>loan_percent_income</th>\n",
              "      <th>cb_person_cred_hist_length</th>\n",
              "      <th>loan_status</th>\n",
              "    </tr>\n",
              "  </thead>\n",
              "  <tbody>\n",
              "    <tr>\n",
              "      <th>count</th>\n",
              "      <td>32581.000000</td>\n",
              "      <td>3.258100e+04</td>\n",
              "      <td>31686.000000</td>\n",
              "      <td>32581.000000</td>\n",
              "      <td>29465.000000</td>\n",
              "      <td>32581.000000</td>\n",
              "      <td>32581.000000</td>\n",
              "      <td>32581.000000</td>\n",
              "    </tr>\n",
              "    <tr>\n",
              "      <th>mean</th>\n",
              "      <td>27.734600</td>\n",
              "      <td>6.607485e+04</td>\n",
              "      <td>4.789686</td>\n",
              "      <td>9589.371106</td>\n",
              "      <td>11.011695</td>\n",
              "      <td>0.170203</td>\n",
              "      <td>5.804211</td>\n",
              "      <td>0.218164</td>\n",
              "    </tr>\n",
              "    <tr>\n",
              "      <th>std</th>\n",
              "      <td>6.348078</td>\n",
              "      <td>6.198312e+04</td>\n",
              "      <td>4.142630</td>\n",
              "      <td>6322.086646</td>\n",
              "      <td>3.240459</td>\n",
              "      <td>0.106782</td>\n",
              "      <td>4.055001</td>\n",
              "      <td>0.413006</td>\n",
              "    </tr>\n",
              "    <tr>\n",
              "      <th>min</th>\n",
              "      <td>20.000000</td>\n",
              "      <td>4.000000e+03</td>\n",
              "      <td>0.000000</td>\n",
              "      <td>500.000000</td>\n",
              "      <td>5.420000</td>\n",
              "      <td>0.000000</td>\n",
              "      <td>2.000000</td>\n",
              "      <td>0.000000</td>\n",
              "    </tr>\n",
              "    <tr>\n",
              "      <th>25%</th>\n",
              "      <td>23.000000</td>\n",
              "      <td>3.850000e+04</td>\n",
              "      <td>2.000000</td>\n",
              "      <td>5000.000000</td>\n",
              "      <td>7.900000</td>\n",
              "      <td>0.090000</td>\n",
              "      <td>3.000000</td>\n",
              "      <td>0.000000</td>\n",
              "    </tr>\n",
              "    <tr>\n",
              "      <th>50%</th>\n",
              "      <td>26.000000</td>\n",
              "      <td>5.500000e+04</td>\n",
              "      <td>4.000000</td>\n",
              "      <td>8000.000000</td>\n",
              "      <td>10.990000</td>\n",
              "      <td>0.150000</td>\n",
              "      <td>4.000000</td>\n",
              "      <td>0.000000</td>\n",
              "    </tr>\n",
              "    <tr>\n",
              "      <th>75%</th>\n",
              "      <td>30.000000</td>\n",
              "      <td>7.920000e+04</td>\n",
              "      <td>7.000000</td>\n",
              "      <td>12200.000000</td>\n",
              "      <td>13.470000</td>\n",
              "      <td>0.230000</td>\n",
              "      <td>8.000000</td>\n",
              "      <td>0.000000</td>\n",
              "    </tr>\n",
              "    <tr>\n",
              "      <th>max</th>\n",
              "      <td>144.000000</td>\n",
              "      <td>6.000000e+06</td>\n",
              "      <td>123.000000</td>\n",
              "      <td>35000.000000</td>\n",
              "      <td>23.220000</td>\n",
              "      <td>0.830000</td>\n",
              "      <td>30.000000</td>\n",
              "      <td>1.000000</td>\n",
              "    </tr>\n",
              "  </tbody>\n",
              "</table>\n",
              "</div>\n",
              "      <button class=\"colab-df-convert\" onclick=\"convertToInteractive('df-bb632950-85d5-4a51-afce-320b7de7c277')\"\n",
              "              title=\"Convert this dataframe to an interactive table.\"\n",
              "              style=\"display:none;\">\n",
              "        \n",
              "  <svg xmlns=\"http://www.w3.org/2000/svg\" height=\"24px\"viewBox=\"0 0 24 24\"\n",
              "       width=\"24px\">\n",
              "    <path d=\"M0 0h24v24H0V0z\" fill=\"none\"/>\n",
              "    <path d=\"M18.56 5.44l.94 2.06.94-2.06 2.06-.94-2.06-.94-.94-2.06-.94 2.06-2.06.94zm-11 1L8.5 8.5l.94-2.06 2.06-.94-2.06-.94L8.5 2.5l-.94 2.06-2.06.94zm10 10l.94 2.06.94-2.06 2.06-.94-2.06-.94-.94-2.06-.94 2.06-2.06.94z\"/><path d=\"M17.41 7.96l-1.37-1.37c-.4-.4-.92-.59-1.43-.59-.52 0-1.04.2-1.43.59L10.3 9.45l-7.72 7.72c-.78.78-.78 2.05 0 2.83L4 21.41c.39.39.9.59 1.41.59.51 0 1.02-.2 1.41-.59l7.78-7.78 2.81-2.81c.8-.78.8-2.07 0-2.86zM5.41 20L4 18.59l7.72-7.72 1.47 1.35L5.41 20z\"/>\n",
              "  </svg>\n",
              "      </button>\n",
              "      \n",
              "  <style>\n",
              "    .colab-df-container {\n",
              "      display:flex;\n",
              "      flex-wrap:wrap;\n",
              "      gap: 12px;\n",
              "    }\n",
              "\n",
              "    .colab-df-convert {\n",
              "      background-color: #E8F0FE;\n",
              "      border: none;\n",
              "      border-radius: 50%;\n",
              "      cursor: pointer;\n",
              "      display: none;\n",
              "      fill: #1967D2;\n",
              "      height: 32px;\n",
              "      padding: 0 0 0 0;\n",
              "      width: 32px;\n",
              "    }\n",
              "\n",
              "    .colab-df-convert:hover {\n",
              "      background-color: #E2EBFA;\n",
              "      box-shadow: 0px 1px 2px rgba(60, 64, 67, 0.3), 0px 1px 3px 1px rgba(60, 64, 67, 0.15);\n",
              "      fill: #174EA6;\n",
              "    }\n",
              "\n",
              "    [theme=dark] .colab-df-convert {\n",
              "      background-color: #3B4455;\n",
              "      fill: #D2E3FC;\n",
              "    }\n",
              "\n",
              "    [theme=dark] .colab-df-convert:hover {\n",
              "      background-color: #434B5C;\n",
              "      box-shadow: 0px 1px 3px 1px rgba(0, 0, 0, 0.15);\n",
              "      filter: drop-shadow(0px 1px 2px rgba(0, 0, 0, 0.3));\n",
              "      fill: #FFFFFF;\n",
              "    }\n",
              "  </style>\n",
              "\n",
              "      <script>\n",
              "        const buttonEl =\n",
              "          document.querySelector('#df-bb632950-85d5-4a51-afce-320b7de7c277 button.colab-df-convert');\n",
              "        buttonEl.style.display =\n",
              "          google.colab.kernel.accessAllowed ? 'block' : 'none';\n",
              "\n",
              "        async function convertToInteractive(key) {\n",
              "          const element = document.querySelector('#df-bb632950-85d5-4a51-afce-320b7de7c277');\n",
              "          const dataTable =\n",
              "            await google.colab.kernel.invokeFunction('convertToInteractive',\n",
              "                                                     [key], {});\n",
              "          if (!dataTable) return;\n",
              "\n",
              "          const docLinkHtml = 'Like what you see? Visit the ' +\n",
              "            '<a target=\"_blank\" href=https://colab.research.google.com/notebooks/data_table.ipynb>data table notebook</a>'\n",
              "            + ' to learn more about interactive tables.';\n",
              "          element.innerHTML = '';\n",
              "          dataTable['output_type'] = 'display_data';\n",
              "          await google.colab.output.renderOutput(dataTable, element);\n",
              "          const docLink = document.createElement('div');\n",
              "          docLink.innerHTML = docLinkHtml;\n",
              "          element.appendChild(docLink);\n",
              "        }\n",
              "      </script>\n",
              "    </div>\n",
              "  </div>\n",
              "  "
            ]
          },
          "metadata": {},
          "execution_count": 127
        }
      ]
    },
    {
      "cell_type": "markdown",
      "source": [
        "Now as we can see, the age column and employment length column have outliers, as the max values for these columns are high and so I have assumned these two columns to have outliers and we need to remove them."
      ],
      "metadata": {
        "id": "ZPYZm7MRwgoJ"
      }
    },
    {
      "cell_type": "markdown",
      "source": [
        "Let us now look how the object type variables in the datasets are behaving, i.e their distribution."
      ],
      "metadata": {
        "id": "C6wT6DNVHQ_z"
      }
    },
    {
      "cell_type": "code",
      "source": [
        "fig=plt.figure(figsize=(18,10))\n",
        "\n",
        "plt.subplot(331) \n",
        "plt.title(\"person_age\")        \n",
        "pa=sns.histplot(data=loan_risk[\"person_age\"],kde=True);\n",
        "pa.set_xlabel(None)\n",
        "\n",
        "plt.subplot(332) \n",
        "plt.title(\"person_income\")\n",
        "sns.boxplot(data=loan_risk[\"person_income\"]);\n",
        "\n",
        "plt.subplot(333) \n",
        "plt.title(\"person_emp_length\")\n",
        "pel=sns.histplot(data=loan_risk[\"person_emp_length\"],kde=True);\n",
        "pel.set_xlabel(None)\n",
        "\n",
        "plt.subplot(334) \n",
        "plt.title(\"loan_amt\")\n",
        "sns.violinplot(data=loan_risk[\"loan_amnt\"]);\n",
        "\n",
        "plt.subplot(335) \n",
        "plt.title(\"loan_int_rate\")\n",
        "sns.boxplot(data=loan_risk[\"loan_int_rate\"]);\n",
        "\n",
        "plt.subplot(336) \n",
        "plt.title(\"loan_percent_income\")\n",
        "sns.violinplot(data=loan_risk[\"loan_percent_income\"]);\n",
        "\n",
        "plt.subplot(313) \n",
        "plt.title(\"loan_percent_income\")\n",
        "sns.histplot(data=loan_risk[\"cb_person_cred_hist_length\"],kde=True);\n",
        "\n",
        "plt.suptitle(\"Distribution\"); #supertitle\n",
        "# I have dropped all the object dtypes and target variable"
      ],
      "metadata": {
        "colab": {
          "base_uri": "https://localhost:8080/",
          "height": 678
        },
        "id": "Wq9pP1eCHLxc",
        "outputId": "910adf30-d1a6-4e76-de24-a2737401fb55"
      },
      "execution_count": null,
      "outputs": [
        {
          "output_type": "display_data",
          "data": {
            "text/plain": [
              "<Figure size 1296x720 with 7 Axes>"
            ],
            "image/png": "[encoded data removed]"
          },
          "metadata": {
            "needs_background": "light"
          }
        }
      ]
    },
    {
      "cell_type": "markdown",
      "source": [
        "From the above distributions, we see that:\n",
        "1. Most of the people who apply for loan range from 20 to 30 yrs\n",
        "2. The income ranges from 0.1 to 0.2 million\n",
        "3. Loan amount ranges from $10,000 to $20,000\n",
        "4. Distributions of Person_age column and employment length look similar\n",
        "5. Most of the interest rate falls between 8% to 14%\n",
        "6. Loan_percent income has a peak at 1%\n",
        "\n",
        "Also note that the distributions seem ot be skewed, we need to address this issue."
      ],
      "metadata": {
        "id": "LI0_128egCUj"
      }
    },
    {
      "cell_type": "markdown",
      "source": [
        "Variation of object type variables"
      ],
      "metadata": {
        "id": "YpSL4rf7jjyO"
      }
    },
    {
      "cell_type": "code",
      "source": [
        "obj_type=loan_risk.select_dtypes(include='object').columns #only object type columns\n",
        "obj_type"
      ],
      "metadata": {
        "colab": {
          "base_uri": "https://localhost:8080/"
        },
        "id": "NN77tpbh4h5m",
        "outputId": "d64ca4dc-9a95-44e1-ee05-aa0f8b42e61f"
      },
      "execution_count": null,
      "outputs": [
        {
          "output_type": "execute_result",
          "data": {
            "text/plain": [
              "Index(['person_home_ownership', 'loan_intent', 'loan_grade',\n",
              "       'cb_person_default_on_file'],\n",
              "      dtype='object')"
            ]
          },
          "metadata": {},
          "execution_count": 129
        }
      ]
    },
    {
      "cell_type": "code",
      "source": [
        "fig1,axes1 = plt.subplots(2,2,figsize=(20,10))\n",
        "fig1.suptitle(\"Variation\")\n",
        "sns.countplot(ax=axes1[0,0],x=loan_risk[\"person_home_ownership\"],data=loan_risk);\n",
        "sns.countplot(ax=axes1[0,1],x=loan_risk[\"loan_intent\"],data=loan_risk);\n",
        "sns.countplot(ax=axes1[1,0],x=loan_risk[\"loan_grade\"],data=loan_risk);\n",
        "sns.countplot(ax=axes1[1,1],x=loan_risk[\"cb_person_default_on_file\"],data=loan_risk);"
      ],
      "metadata": {
        "colab": {
          "base_uri": "https://localhost:8080/",
          "height": 678
        },
        "id": "m4QjwzfS6Ikx",
        "outputId": "c09731d7-d933-45e1-b51c-043eb460f88a"
      },
      "execution_count": null,
      "outputs": [
        {
          "output_type": "display_data",
          "data": {
            "text/plain": [
              "<Figure size 1440x720 with 4 Axes>"
            ],
            "image/png": "[encoded data removed]"
          },
          "metadata": {
            "needs_background": "light"
          }
        }
      ]
    },
    {
      "cell_type": "markdown",
      "source": [
        "From the above 4 plots, we see that:\n",
        "\n",
        "1. Most of the loan applicants reside in rented house\n",
        "2. Loan intent seems to for personal reasons.\n",
        "3. The loan grades are in the order A>B>C>D>E>F>G\n",
        "4. Many loan applicants are defaulters on files\n",
        "\n",
        "\n"
      ],
      "metadata": {
        "id": "UMSsZ_bS-09-"
      }
    },
    {
      "cell_type": "markdown",
      "source": [
        "In Classificaton datasets, there are usually imbalance in the target variable, we are going to examine if it is the same with this dataset as well. Will be using pie-chart for this"
      ],
      "metadata": {
        "id": "hhGAZMVClGHg"
      }
    },
    {
      "cell_type": "code",
      "source": [
        "#loan_risk[\"loan_status\"].value_counts(1) --> will give the percent of 0s and 1s in the target column\n",
        "#I have used semicolon at the end to remove the text that appeears before the plot\n",
        "plt.pie(loan_risk[\"loan_status\"].value_counts(1),labels=[\"0s\",\"1s\"],autopct='%.2f');\n",
        "plt.title(\"Imbalance in target variable\");"
      ],
      "metadata": {
        "colab": {
          "base_uri": "https://localhost:8080/",
          "height": 264
        },
        "id": "D-ibGxoFlJDF",
        "outputId": "6ebc08b6-f6a7-4856-8e39-9df1f526c858"
      },
      "execution_count": 200,
      "outputs": [
        {
          "output_type": "display_data",
          "data": {
            "text/plain": [
              "<Figure size 432x288 with 1 Axes>"
            ],
            "image/png": "[encoded data removed]"
          },
          "metadata": {}
        }
      ]
    },
    {
      "cell_type": "markdown",
      "source": [
        "We see that there is indeed imbalance in the target variable and we need to address it."
      ],
      "metadata": {
        "id": "hmf7VDCSjDoK"
      }
    },
    {
      "cell_type": "markdown",
      "source": [
        "We shall now see the corelation between the variables"
      ],
      "metadata": {
        "id": "E1P0aIsmAeU-"
      }
    },
    {
      "cell_type": "code",
      "source": [
        "#corelation \n",
        "loan_risk.corr().style.background_gradient(cmap=\"coolwarm\").set_precision(2)"
      ],
      "metadata": {
        "colab": {
          "base_uri": "https://localhost:8080/",
          "height": 335
        },
        "id": "ZH43IcSuATXx",
        "outputId": "0efeaf53-df32-45a5-b9e9-ca8f7fd2c89d"
      },
      "execution_count": null,
      "outputs": [
        {
          "output_type": "stream",
          "name": "stderr",
          "text": [
            "/usr/local/lib/python3.7/dist-packages/ipykernel_launcher.py:2: FutureWarning: this method is deprecated in favour of `Styler.format(precision=..)`\n",
            "  \n"
          ]
        },
        {
          "output_type": "execute_result",
          "data": {
            "text/plain": [
              "<pandas.io.formats.style.Styler at 0x7fa9e2569a90>"
            ],
            "text/html": [
              "<style type=\"text/css\">\n",
              "#T_eed08_row0_col0, #T_eed08_row1_col1, #T_eed08_row2_col2, #T_eed08_row3_col3, #T_eed08_row4_col4, #T_eed08_row5_col5, #T_eed08_row6_col6, #T_eed08_row7_col7 {\n",
              "  background-color: #b40426;\n",
              "  color: #f1f1f1;\n",
              "}\n",
              "#T_eed08_row0_col1 {\n",
              "  background-color: #adc9fd;\n",
              "  color: #000000;\n",
              "}\n",
              "#T_eed08_row0_col2 {\n",
              "  background-color: #85a8fc;\n",
              "  color: #f1f1f1;\n",
              "}\n",
              "#T_eed08_row0_col3 {\n",
              "  background-color: #3d50c3;\n",
              "  color: #f1f1f1;\n",
              "}\n",
              "#T_eed08_row0_col4, #T_eed08_row7_col3 {\n",
              "  background-color: #4e68d8;\n",
              "  color: #f1f1f1;\n",
              "}\n",
              "#T_eed08_row0_col5, #T_eed08_row2_col6 {\n",
              "  background-color: #7093f3;\n",
              "  color: #f1f1f1;\n",
              "}\n",
              "#T_eed08_row0_col6, #T_eed08_row6_col0 {\n",
              "  background-color: #e0654f;\n",
              "  color: #f1f1f1;\n",
              "}\n",
              "#T_eed08_row0_col7 {\n",
              "  background-color: #5b7ae5;\n",
              "  color: #f1f1f1;\n",
              "}\n",
              "#T_eed08_row1_col0, #T_eed08_row4_col1 {\n",
              "  background-color: #7da0f9;\n",
              "  color: #f1f1f1;\n",
              "}\n",
              "#T_eed08_row1_col2 {\n",
              "  background-color: #7b9ff9;\n",
              "  color: #f1f1f1;\n",
              "}\n",
              "#T_eed08_row1_col3 {\n",
              "  background-color: #88abfd;\n",
              "  color: #000000;\n",
              "}\n",
              "#T_eed08_row1_col4, #T_eed08_row2_col7, #T_eed08_row4_col0 {\n",
              "  background-color: #4a63d3;\n",
              "  color: #f1f1f1;\n",
              "}\n",
              "#T_eed08_row1_col5, #T_eed08_row1_col7, #T_eed08_row2_col4, #T_eed08_row5_col0, #T_eed08_row5_col1, #T_eed08_row5_col6, #T_eed08_row6_col3, #T_eed08_row7_col2 {\n",
              "  background-color: #3b4cc0;\n",
              "  color: #f1f1f1;\n",
              "}\n",
              "#T_eed08_row1_col6 {\n",
              "  background-color: #688aef;\n",
              "  color: #f1f1f1;\n",
              "}\n",
              "#T_eed08_row2_col0 {\n",
              "  background-color: #7a9df8;\n",
              "  color: #f1f1f1;\n",
              "}\n",
              "#T_eed08_row2_col1 {\n",
              "  background-color: #a2c1ff;\n",
              "  color: #000000;\n",
              "}\n",
              "#T_eed08_row2_col3 {\n",
              "  background-color: #516ddb;\n",
              "  color: #f1f1f1;\n",
              "}\n",
              "#T_eed08_row2_col5 {\n",
              "  background-color: #6c8ff1;\n",
              "  color: #f1f1f1;\n",
              "}\n",
              "#T_eed08_row3_col0, #T_eed08_row7_col1 {\n",
              "  background-color: #5572df;\n",
              "  color: #f1f1f1;\n",
              "}\n",
              "#T_eed08_row3_col1 {\n",
              "  background-color: #c5d6f2;\n",
              "  color: #000000;\n",
              "}\n",
              "#T_eed08_row3_col2 {\n",
              "  background-color: #7597f6;\n",
              "  color: #f1f1f1;\n",
              "}\n",
              "#T_eed08_row3_col4 {\n",
              "  background-color: #799cf8;\n",
              "  color: #f1f1f1;\n",
              "}\n",
              "#T_eed08_row3_col5 {\n",
              "  background-color: #f7ba9f;\n",
              "  color: #000000;\n",
              "}\n",
              "#T_eed08_row3_col6 {\n",
              "  background-color: #506bda;\n",
              "  color: #f1f1f1;\n",
              "}\n",
              "#T_eed08_row3_col7 {\n",
              "  background-color: #81a4fb;\n",
              "  color: #f1f1f1;\n",
              "}\n",
              "#T_eed08_row4_col2, #T_eed08_row5_col2 {\n",
              "  background-color: #4257c9;\n",
              "  color: #f1f1f1;\n",
              "}\n",
              "#T_eed08_row4_col3, #T_eed08_row6_col7 {\n",
              "  background-color: #5d7ce6;\n",
              "  color: #f1f1f1;\n",
              "}\n",
              "#T_eed08_row4_col5, #T_eed08_row6_col1 {\n",
              "  background-color: #9ebeff;\n",
              "  color: #000000;\n",
              "}\n",
              "#T_eed08_row4_col6 {\n",
              "  background-color: #4961d2;\n",
              "  color: #f1f1f1;\n",
              "}\n",
              "#T_eed08_row4_col7 {\n",
              "  background-color: #c6d6f1;\n",
              "  color: #000000;\n",
              "}\n",
              "#T_eed08_row5_col3 {\n",
              "  background-color: #ead5c9;\n",
              "  color: #000000;\n",
              "}\n",
              "#T_eed08_row5_col4 {\n",
              "  background-color: #6f92f3;\n",
              "  color: #f1f1f1;\n",
              "}\n",
              "#T_eed08_row5_col7 {\n",
              "  background-color: #d2dbe8;\n",
              "  color: #000000;\n",
              "}\n",
              "#T_eed08_row6_col2 {\n",
              "  background-color: #7ea1fa;\n",
              "  color: #f1f1f1;\n",
              "}\n",
              "#T_eed08_row6_col4 {\n",
              "  background-color: #4f69d9;\n",
              "  color: #f1f1f1;\n",
              "}\n",
              "#T_eed08_row6_col5 {\n",
              "  background-color: #7396f5;\n",
              "  color: #f1f1f1;\n",
              "}\n",
              "#T_eed08_row7_col0 {\n",
              "  background-color: #4055c8;\n",
              "  color: #f1f1f1;\n",
              "}\n",
              "#T_eed08_row7_col4 {\n",
              "  background-color: #b6cefa;\n",
              "  color: #000000;\n",
              "}\n",
              "#T_eed08_row7_col5 {\n",
              "  background-color: #dedcdb;\n",
              "  color: #000000;\n",
              "}\n",
              "#T_eed08_row7_col6 {\n",
              "  background-color: #3f53c6;\n",
              "  color: #f1f1f1;\n",
              "}\n",
              "</style>\n",
              "<table id=\"T_eed08_\" class=\"dataframe\">\n",
              "  <thead>\n",
              "    <tr>\n",
              "      <th class=\"blank level0\" >&nbsp;</th>\n",
              "      <th class=\"col_heading level0 col0\" >person_age</th>\n",
              "      <th class=\"col_heading level0 col1\" >person_income</th>\n",
              "      <th class=\"col_heading level0 col2\" >person_emp_length</th>\n",
              "      <th class=\"col_heading level0 col3\" >loan_amnt</th>\n",
              "      <th class=\"col_heading level0 col4\" >loan_int_rate</th>\n",
              "      <th class=\"col_heading level0 col5\" >loan_percent_income</th>\n",
              "      <th class=\"col_heading level0 col6\" >cb_person_cred_hist_length</th>\n",
              "      <th class=\"col_heading level0 col7\" >loan_status</th>\n",
              "    </tr>\n",
              "  </thead>\n",
              "  <tbody>\n",
              "    <tr>\n",
              "      <th id=\"T_eed08_level0_row0\" class=\"row_heading level0 row0\" >person_age</th>\n",
              "      <td id=\"T_eed08_row0_col0\" class=\"data row0 col0\" >1.00</td>\n",
              "      <td id=\"T_eed08_row0_col1\" class=\"data row0 col1\" >0.17</td>\n",
              "      <td id=\"T_eed08_row0_col2\" class=\"data row0 col2\" >0.16</td>\n",
              "      <td id=\"T_eed08_row0_col3\" class=\"data row0 col3\" >0.05</td>\n",
              "      <td id=\"T_eed08_row0_col4\" class=\"data row0 col4\" >0.01</td>\n",
              "      <td id=\"T_eed08_row0_col5\" class=\"data row0 col5\" >-0.04</td>\n",
              "      <td id=\"T_eed08_row0_col6\" class=\"data row0 col6\" >0.86</td>\n",
              "      <td id=\"T_eed08_row0_col7\" class=\"data row0 col7\" >-0.02</td>\n",
              "    </tr>\n",
              "    <tr>\n",
              "      <th id=\"T_eed08_level0_row1\" class=\"row_heading level0 row1\" >person_income</th>\n",
              "      <td id=\"T_eed08_row1_col0\" class=\"data row1 col0\" >0.17</td>\n",
              "      <td id=\"T_eed08_row1_col1\" class=\"data row1 col1\" >1.00</td>\n",
              "      <td id=\"T_eed08_row1_col2\" class=\"data row1 col2\" >0.13</td>\n",
              "      <td id=\"T_eed08_row1_col3\" class=\"data row1 col3\" >0.27</td>\n",
              "      <td id=\"T_eed08_row1_col4\" class=\"data row1 col4\" >0.00</td>\n",
              "      <td id=\"T_eed08_row1_col5\" class=\"data row1 col5\" >-0.25</td>\n",
              "      <td id=\"T_eed08_row1_col6\" class=\"data row1 col6\" >0.12</td>\n",
              "      <td id=\"T_eed08_row1_col7\" class=\"data row1 col7\" >-0.14</td>\n",
              "    </tr>\n",
              "    <tr>\n",
              "      <th id=\"T_eed08_level0_row2\" class=\"row_heading level0 row2\" >person_emp_length</th>\n",
              "      <td id=\"T_eed08_row2_col0\" class=\"data row2 col0\" >0.16</td>\n",
              "      <td id=\"T_eed08_row2_col1\" class=\"data row2 col1\" >0.13</td>\n",
              "      <td id=\"T_eed08_row2_col2\" class=\"data row2 col2\" >1.00</td>\n",
              "      <td id=\"T_eed08_row2_col3\" class=\"data row2 col3\" >0.11</td>\n",
              "      <td id=\"T_eed08_row2_col4\" class=\"data row2 col4\" >-0.06</td>\n",
              "      <td id=\"T_eed08_row2_col5\" class=\"data row2 col5\" >-0.05</td>\n",
              "      <td id=\"T_eed08_row2_col6\" class=\"data row2 col6\" >0.14</td>\n",
              "      <td id=\"T_eed08_row2_col7\" class=\"data row2 col7\" >-0.08</td>\n",
              "    </tr>\n",
              "    <tr>\n",
              "      <th id=\"T_eed08_level0_row3\" class=\"row_heading level0 row3\" >loan_amnt</th>\n",
              "      <td id=\"T_eed08_row3_col0\" class=\"data row3 col0\" >0.05</td>\n",
              "      <td id=\"T_eed08_row3_col1\" class=\"data row3 col1\" >0.27</td>\n",
              "      <td id=\"T_eed08_row3_col2\" class=\"data row3 col2\" >0.11</td>\n",
              "      <td id=\"T_eed08_row3_col3\" class=\"data row3 col3\" >1.00</td>\n",
              "      <td id=\"T_eed08_row3_col4\" class=\"data row3 col4\" >0.15</td>\n",
              "      <td id=\"T_eed08_row3_col5\" class=\"data row3 col5\" >0.57</td>\n",
              "      <td id=\"T_eed08_row3_col6\" class=\"data row3 col6\" >0.04</td>\n",
              "      <td id=\"T_eed08_row3_col7\" class=\"data row3 col7\" >0.11</td>\n",
              "    </tr>\n",
              "    <tr>\n",
              "      <th id=\"T_eed08_level0_row4\" class=\"row_heading level0 row4\" >loan_int_rate</th>\n",
              "      <td id=\"T_eed08_row4_col0\" class=\"data row4 col0\" >0.01</td>\n",
              "      <td id=\"T_eed08_row4_col1\" class=\"data row4 col1\" >0.00</td>\n",
              "      <td id=\"T_eed08_row4_col2\" class=\"data row4 col2\" >-0.06</td>\n",
              "      <td id=\"T_eed08_row4_col3\" class=\"data row4 col3\" >0.15</td>\n",
              "      <td id=\"T_eed08_row4_col4\" class=\"data row4 col4\" >1.00</td>\n",
              "      <td id=\"T_eed08_row4_col5\" class=\"data row4 col5\" >0.12</td>\n",
              "      <td id=\"T_eed08_row4_col6\" class=\"data row4 col6\" >0.02</td>\n",
              "      <td id=\"T_eed08_row4_col7\" class=\"data row4 col7\" >0.34</td>\n",
              "    </tr>\n",
              "    <tr>\n",
              "      <th id=\"T_eed08_level0_row5\" class=\"row_heading level0 row5\" >loan_percent_income</th>\n",
              "      <td id=\"T_eed08_row5_col0\" class=\"data row5 col0\" >-0.04</td>\n",
              "      <td id=\"T_eed08_row5_col1\" class=\"data row5 col1\" >-0.25</td>\n",
              "      <td id=\"T_eed08_row5_col2\" class=\"data row5 col2\" >-0.05</td>\n",
              "      <td id=\"T_eed08_row5_col3\" class=\"data row5 col3\" >0.57</td>\n",
              "      <td id=\"T_eed08_row5_col4\" class=\"data row5 col4\" >0.12</td>\n",
              "      <td id=\"T_eed08_row5_col5\" class=\"data row5 col5\" >1.00</td>\n",
              "      <td id=\"T_eed08_row5_col6\" class=\"data row5 col6\" >-0.03</td>\n",
              "      <td id=\"T_eed08_row5_col7\" class=\"data row5 col7\" >0.38</td>\n",
              "    </tr>\n",
              "    <tr>\n",
              "      <th id=\"T_eed08_level0_row6\" class=\"row_heading level0 row6\" >cb_person_cred_hist_length</th>\n",
              "      <td id=\"T_eed08_row6_col0\" class=\"data row6 col0\" >0.86</td>\n",
              "      <td id=\"T_eed08_row6_col1\" class=\"data row6 col1\" >0.12</td>\n",
              "      <td id=\"T_eed08_row6_col2\" class=\"data row6 col2\" >0.14</td>\n",
              "      <td id=\"T_eed08_row6_col3\" class=\"data row6 col3\" >0.04</td>\n",
              "      <td id=\"T_eed08_row6_col4\" class=\"data row6 col4\" >0.02</td>\n",
              "      <td id=\"T_eed08_row6_col5\" class=\"data row6 col5\" >-0.03</td>\n",
              "      <td id=\"T_eed08_row6_col6\" class=\"data row6 col6\" >1.00</td>\n",
              "      <td id=\"T_eed08_row6_col7\" class=\"data row6 col7\" >-0.02</td>\n",
              "    </tr>\n",
              "    <tr>\n",
              "      <th id=\"T_eed08_level0_row7\" class=\"row_heading level0 row7\" >loan_status</th>\n",
              "      <td id=\"T_eed08_row7_col0\" class=\"data row7 col0\" >-0.02</td>\n",
              "      <td id=\"T_eed08_row7_col1\" class=\"data row7 col1\" >-0.14</td>\n",
              "      <td id=\"T_eed08_row7_col2\" class=\"data row7 col2\" >-0.08</td>\n",
              "      <td id=\"T_eed08_row7_col3\" class=\"data row7 col3\" >0.11</td>\n",
              "      <td id=\"T_eed08_row7_col4\" class=\"data row7 col4\" >0.34</td>\n",
              "      <td id=\"T_eed08_row7_col5\" class=\"data row7 col5\" >0.38</td>\n",
              "      <td id=\"T_eed08_row7_col6\" class=\"data row7 col6\" >-0.02</td>\n",
              "      <td id=\"T_eed08_row7_col7\" class=\"data row7 col7\" >1.00</td>\n",
              "    </tr>\n",
              "  </tbody>\n",
              "</table>\n"
            ]
          },
          "metadata": {},
          "execution_count": 132
        }
      ]
    },
    {
      "cell_type": "markdown",
      "source": [
        "##Dealing with the outliers"
      ],
      "metadata": {
        "id": "_fn00SBBdcki"
      }
    },
    {
      "cell_type": "code",
      "source": [
        "# to detect the outliers we will plot histogram and see if zscore can be employed for detection of outliers\n",
        "import matplotlib.pyplot as plt\n",
        "plt.hist(loan_risk[\"person_age\"]);\n"
      ],
      "metadata": {
        "colab": {
          "base_uri": "https://localhost:8080/",
          "height": 54
        },
        "id": "Pd6ufZgTxC16",
        "outputId": "37f3355d-89ce-4fbe-e0a7-341add29235e"
      },
      "execution_count": null,
      "outputs": [
        {
          "output_type": "display_data",
          "data": {
            "text/plain": [
              "<Figure size 432x288 with 1 Axes>"
            ],
            "image/png": "[encoded data removed]"
          },
          "metadata": {
            "needs_background": "light"
          }
        }
      ]
    },
    {
      "cell_type": "markdown",
      "source": [
        "From the above plot we can see that it is skewed, hence zscore cannot be employed to find the outliers we will be using IQR method to find the outliers"
      ],
      "metadata": {
        "id": "AboMsmBtDTAB"
      }
    },
    {
      "cell_type": "code",
      "source": [
        "q1 = loan_risk[\"person_age\"].quantile(.25)\n",
        "q3 = loan_risk[\"person_age\"].quantile(.75)\n",
        "iqr=q3-q1\n",
        "print (iqr)\n",
        "upperlimit=iqr+1.5*q3\n",
        "lowerlimit=iqr-1.5*q1\n",
        "print (upperlimit)\n",
        "print (lowerlimit)\n",
        "outliers = loan_risk[(loan_risk[\"person_age\"]>(q3+1.5*iqr))|(loan_risk[\"person_age\"]<(q1-1.5*iqr))]\n",
        "print (\"total outliers\", len(outliers))\n"
      ],
      "metadata": {
        "colab": {
          "base_uri": "https://localhost:8080/"
        },
        "id": "HO4sH-wcDlrC",
        "outputId": "f93804ff-5911-4c9e-ea7a-45989b027650"
      },
      "execution_count": null,
      "outputs": [
        {
          "output_type": "stream",
          "name": "stdout",
          "text": [
            "7.0\n",
            "52.0\n",
            "-27.5\n",
            "total outliers 1494\n"
          ]
        }
      ]
    },
    {
      "cell_type": "markdown",
      "source": [
        "From the above output we see that there are a lot of outliers, and so we cannot remove them, as it would lead to a very high loss of data. Hence, we shall cap the outliers."
      ],
      "metadata": {
        "id": "SVtaM6n3ZOqB"
      }
    },
    {
      "cell_type": "code",
      "source": [
        "# We will calculate new upper and lower limit and replace the values exceeding the limits, by the limits themselves \n",
        "newupperlimit=loan_risk[\"person_age\"].mean()+3*(loan_risk[\"person_age\"].std())\n",
        "newlowerlimit=loan_risk[\"person_age\"].mean()-3*(loan_risk[\"person_age\"].std())\n",
        "print(newupperlimit)\n",
        "print(newlowerlimit)\n"
      ],
      "metadata": {
        "colab": {
          "base_uri": "https://localhost:8080/"
        },
        "id": "O63Aot9BWHc7",
        "outputId": "fe6ae1cc-250d-406e-8bc4-6b099c4d3346"
      },
      "execution_count": null,
      "outputs": [
        {
          "output_type": "stream",
          "name": "stdout",
          "text": [
            "46.77883517787463\n",
            "8.690364662523145\n"
          ]
        }
      ]
    },
    {
      "cell_type": "code",
      "source": [
        "#applying the limits to the person_age column\n",
        "import numpy as np\n",
        "loan_risk[\"person_age\"]=np.where(loan_risk[\"person_age\"]>newupperlimit,newupperlimit,np.where(loan_risk[\"person_age\"]<newlowerlimit,newlowerlimit,loan_risk[\"person_age\"]))\n",
        "loan_risk[\"person_age\"].describe() # checking to see if the limits have been appplied"
      ],
      "metadata": {
        "colab": {
          "base_uri": "https://localhost:8080/"
        },
        "id": "vXndf58aY3e2",
        "outputId": "41910ab6-d56e-49bc-b2f7-8f07f845d7a2"
      },
      "execution_count": null,
      "outputs": [
        {
          "output_type": "execute_result",
          "data": {
            "text/plain": [
              "count    32581.000000\n",
              "mean        27.619029\n",
              "std          5.774188\n",
              "min         20.000000\n",
              "25%         23.000000\n",
              "50%         26.000000\n",
              "75%         30.000000\n",
              "max         46.778835\n",
              "Name: person_age, dtype: float64"
            ]
          },
          "metadata": {},
          "execution_count": 136
        }
      ]
    },
    {
      "cell_type": "markdown",
      "source": [
        "From the above ouput we see that the limits have been applied\n",
        "We are going to do the same thing for the employment lenght column if the number of outliers are very high and capping the outliers is required."
      ],
      "metadata": {
        "id": "ZWUthZT6b3AI"
      }
    },
    {
      "cell_type": "code",
      "source": [
        "import matplotlib.pyplot as plt\n",
        "plt.hist(loan_risk[\"person_emp_length\"])"
      ],
      "metadata": {
        "colab": {
          "base_uri": "https://localhost:8080/",
          "height": 141
        },
        "id": "qYiwn-JmSn7Q",
        "outputId": "f7437dd6-5111-40d9-eebd-ac62e5e32e13"
      },
      "execution_count": null,
      "outputs": [
        {
          "output_type": "execute_result",
          "data": {
            "text/plain": [
              "(array([3.0072e+04, 1.5800e+03, 3.0000e+01, 2.0000e+00, 0.0000e+00,\n",
              "        0.0000e+00, 0.0000e+00, 0.0000e+00, 0.0000e+00, 2.0000e+00]),\n",
              " array([  0. ,  12.3,  24.6,  36.9,  49.2,  61.5,  73.8,  86.1,  98.4,\n",
              "        110.7, 123. ]),\n",
              " <a list of 10 Patch objects>)"
            ]
          },
          "metadata": {},
          "execution_count": 137
        },
        {
          "output_type": "display_data",
          "data": {
            "text/plain": [
              "<Figure size 432x288 with 1 Axes>"
            ],
            "image/png": "[encoded data removed]"
          },
          "metadata": {
            "needs_background": "light"
          }
        }
      ]
    },
    {
      "cell_type": "markdown",
      "source": [
        "Now again we see that the plot is skewed and we will not be able to apply zscore method and we need to apply the IQR method. "
      ],
      "metadata": {
        "id": "x0WA8OW-eJJt"
      }
    },
    {
      "cell_type": "code",
      "source": [
        "q1 = loan_risk[\"person_emp_length\"].quantile(.25)\n",
        "q3 = loan_risk[\"person_emp_length\"].quantile(.75)\n",
        "iqr=q3-q1\n",
        "print (iqr)\n",
        "upperlimit=iqr+1.5*q3\n",
        "lowerlimit=iqr-1.5*q1\n",
        "print (upperlimit)\n",
        "print (lowerlimit)\n",
        "outliers = loan_risk[(loan_risk[\"person_emp_length\"]>(q3+1.5*iqr))|(loan_risk[\"person_emp_length\"]<(q1-1.5*iqr))]\n",
        "print (\"total outliers\", len(outliers))"
      ],
      "metadata": {
        "colab": {
          "base_uri": "https://localhost:8080/"
        },
        "id": "kgwYKuPOenjb",
        "outputId": "4afd928a-efc3-485c-9c32-aefe40ce4772"
      },
      "execution_count": null,
      "outputs": [
        {
          "output_type": "stream",
          "name": "stdout",
          "text": [
            "5.0\n",
            "15.5\n",
            "2.0\n",
            "total outliers 853\n"
          ]
        }
      ]
    },
    {
      "cell_type": "markdown",
      "source": [
        "Again, there is a high number of values as ouliers, so instead of removing the outliers we shall cap them."
      ],
      "metadata": {
        "id": "EC7beNau5THM"
      }
    },
    {
      "cell_type": "code",
      "source": [
        "# We will calculate new upper and lower limit and replace the values exceeding the limits, by the limits themselves \n",
        "newupperlimit=loan_risk[\"person_emp_length\"].mean()+3*(loan_risk[\"person_emp_length\"].std())\n",
        "newlowerlimit=loan_risk[\"person_emp_length\"].mean()-3*(loan_risk[\"person_emp_length\"].std())\n",
        "print(newupperlimit)\n",
        "print(newlowerlimit)\n"
      ],
      "metadata": {
        "colab": {
          "base_uri": "https://localhost:8080/"
        },
        "id": "K9Kye9hg51Gf",
        "outputId": "75719e16-c74b-42c8-a282-b645babaaf14"
      },
      "execution_count": null,
      "outputs": [
        {
          "output_type": "stream",
          "name": "stdout",
          "text": [
            "17.21757674345114\n",
            "-7.6382041498766915\n"
          ]
        }
      ]
    },
    {
      "cell_type": "code",
      "source": [
        "#applying the limits to the person_emp_length column\n",
        "\n",
        "loan_risk[\"person_emp_length\"]=np.where(loan_risk[\"person_emp_length\"]>newupperlimit,newupperlimit,np.where(loan_risk[\"person_emp_length\"]<newlowerlimit,newlowerlimit,loan_risk[\"person_emp_length\"]))\n",
        "loan_risk[\"person_emp_length\"].describe() # checking to see if the limits have been appplied, it seems that the outliers have been capped"
      ],
      "metadata": {
        "colab": {
          "base_uri": "https://localhost:8080/"
        },
        "id": "7zzSjKVl6K-A",
        "outputId": "9122f6d9-0ac3-4e0b-bf6b-dea134e54c88"
      },
      "execution_count": null,
      "outputs": [
        {
          "output_type": "execute_result",
          "data": {
            "text/plain": [
              "count    31686.000000\n",
              "mean         4.750737\n",
              "std          3.908415\n",
              "min          0.000000\n",
              "25%          2.000000\n",
              "50%          4.000000\n",
              "75%          7.000000\n",
              "max         17.217577\n",
              "Name: person_emp_length, dtype: float64"
            ]
          },
          "metadata": {},
          "execution_count": 140
        }
      ]
    },
    {
      "cell_type": "markdown",
      "source": [
        "##Dealing with missing values"
      ],
      "metadata": {
        "id": "-xZny9tjhgbi"
      }
    },
    {
      "cell_type": "code",
      "source": [
        "loan_risk.isnull().sum()"
      ],
      "metadata": {
        "colab": {
          "base_uri": "https://localhost:8080/"
        },
        "id": "U9299p8T5n_N",
        "outputId": "9b177088-118d-4b1a-e0d3-c00ce8b024f5"
      },
      "execution_count": null,
      "outputs": [
        {
          "output_type": "execute_result",
          "data": {
            "text/plain": [
              "person_age                       0\n",
              "person_income                    0\n",
              "person_home_ownership            0\n",
              "person_emp_length              895\n",
              "loan_intent                      0\n",
              "loan_grade                       0\n",
              "loan_amnt                        0\n",
              "loan_int_rate                 3116\n",
              "loan_percent_income              0\n",
              "cb_person_default_on_file        0\n",
              "cb_person_cred_hist_length       0\n",
              "loan_status                      0\n",
              "dtype: int64"
            ]
          },
          "metadata": {},
          "execution_count": 141
        }
      ]
    },
    {
      "cell_type": "markdown",
      "source": [
        "As we now know the columns with missing values, we need to see how to handel them, in this case we cannot exclude them as a large number of data would be dropped, so we will try to fill the missing value with some number. We would be filling mean value"
      ],
      "metadata": {
        "id": "T_Homk5Qn9dr"
      }
    },
    {
      "cell_type": "code",
      "source": [
        "loan_risk[\"person_emp_length\"].fillna(loan_risk[\"person_emp_length\"].mean(),inplace=True)\n",
        "loan_risk[\"loan_int_rate\"].fillna(loan_risk[\"loan_int_rate\"].mean(),inplace=True)"
      ],
      "metadata": {
        "id": "Ta_nO8_zebd1"
      },
      "execution_count": null,
      "outputs": []
    },
    {
      "cell_type": "code",
      "source": [
        "loan_risk.isnull().sum() # we can see that there is no null values now"
      ],
      "metadata": {
        "colab": {
          "base_uri": "https://localhost:8080/"
        },
        "id": "dWZyBIGje22J",
        "outputId": "38b14f15-658e-4f34-acd3-d58373039b06"
      },
      "execution_count": null,
      "outputs": [
        {
          "output_type": "execute_result",
          "data": {
            "text/plain": [
              "person_age                    0\n",
              "person_income                 0\n",
              "person_home_ownership         0\n",
              "person_emp_length             0\n",
              "loan_intent                   0\n",
              "loan_grade                    0\n",
              "loan_amnt                     0\n",
              "loan_int_rate                 0\n",
              "loan_percent_income           0\n",
              "cb_person_default_on_file     0\n",
              "cb_person_cred_hist_length    0\n",
              "loan_status                   0\n",
              "dtype: int64"
            ]
          },
          "metadata": {},
          "execution_count": 143
        }
      ]
    },
    {
      "cell_type": "markdown",
      "source": [
        "##Tranforming categorical columns to numeric"
      ],
      "metadata": {
        "id": "6SW60dWgDeV_"
      }
    },
    {
      "cell_type": "markdown",
      "source": [
        "We now have to transform object type columnns to numbers for analysis "
      ],
      "metadata": {
        "id": "nRsFUoX-gCQo"
      }
    },
    {
      "cell_type": "code",
      "source": [
        "# we shall use factorize funtion for conversion, loan_risk.select_dtypes(include=object).columns will give you all the object type columns\n",
        "for i in loan_risk.select_dtypes(include=object).columns:\n",
        "  loan_risk[i]=pd.factorize(loan_risk[i])[0]"
      ],
      "metadata": {
        "id": "IHc0q0CigSUU"
      },
      "execution_count": null,
      "outputs": []
    },
    {
      "cell_type": "code",
      "source": [
        "loan_risk.info() #so we have converted all the categorical variables to numeric"
      ],
      "metadata": {
        "colab": {
          "base_uri": "https://localhost:8080/"
        },
        "id": "nvdJynVNnxKb",
        "outputId": "9d9e754d-a107-4571-d261-b079e3ebe527"
      },
      "execution_count": null,
      "outputs": [
        {
          "output_type": "stream",
          "name": "stdout",
          "text": [
            "<class 'pandas.core.frame.DataFrame'>\n",
            "RangeIndex: 32581 entries, 0 to 32580\n",
            "Data columns (total 12 columns):\n",
            " #   Column                      Non-Null Count  Dtype  \n",
            "---  ------                      --------------  -----  \n",
            " 0   person_age                  32581 non-null  float64\n",
            " 1   person_income               32581 non-null  int64  \n",
            " 2   person_home_ownership       32581 non-null  int64  \n",
            " 3   person_emp_length           32581 non-null  float64\n",
            " 4   loan_intent                 32581 non-null  int64  \n",
            " 5   loan_grade                  32581 non-null  int64  \n",
            " 6   loan_amnt                   32581 non-null  int64  \n",
            " 7   loan_int_rate               32581 non-null  float64\n",
            " 8   loan_percent_income         32581 non-null  float64\n",
            " 9   cb_person_default_on_file   32581 non-null  int64  \n",
            " 10  cb_person_cred_hist_length  32581 non-null  int64  \n",
            " 11  loan_status                 32581 non-null  int64  \n",
            "dtypes: float64(4), int64(8)\n",
            "memory usage: 3.0 MB\n"
          ]
        }
      ]
    },
    {
      "cell_type": "markdown",
      "source": [
        "##Splitting  the dataset for and normalizing it for the model"
      ],
      "metadata": {
        "id": "XF8XMwuCoZiM"
      }
    },
    {
      "cell_type": "code",
      "source": [
        "x=loan_risk.drop([\"loan_status\"],axis=1)\n",
        "y=loan_risk[\"loan_status\"]\n",
        "xtrain,xtest,ytrain,ytest=train_test_split(x,y,test_size=0.25,random_state=25) #using random sate to get the same values every time query is run and train:test ratio = .75:.25"
      ],
      "metadata": {
        "id": "oY9i0nlVlKPU"
      },
      "execution_count": null,
      "outputs": []
    },
    {
      "cell_type": "markdown",
      "source": [
        "We see from our dataset that all the columns carry different units and hence we need to bring them to similar scale ranging from zero to one"
      ],
      "metadata": {
        "id": "WqJ2sXnIs7wC"
      }
    },
    {
      "cell_type": "code",
      "source": [
        "xtrainnorm=pd.DataFrame(preprocessing.normalize(xtrain,axis=0),columns=xtrain.columns)\n",
        "xtestnorm=pd.DataFrame(preprocessing.normalize(xtest,axis=0),columns=xtest.columns)"
      ],
      "metadata": {
        "id": "ty9cL1VpsKeo"
      },
      "execution_count": null,
      "outputs": []
    },
    {
      "cell_type": "code",
      "source": [
        "xtrainnorm.describe()"
      ],
      "metadata": {
        "colab": {
          "base_uri": "https://localhost:8080/",
          "height": 364
        },
        "id": "gxx8a5hMq3fH",
        "outputId": "53e8897d-34c2-4ea5-f773-3640bd066ce6"
      },
      "execution_count": null,
      "outputs": [
        {
          "output_type": "execute_result",
          "data": {
            "text/plain": [
              "         person_age  person_income  person_home_ownership  person_emp_length  \\\n",
              "count  24435.000000   24435.000000           24435.000000       24435.000000   \n",
              "mean       0.006262       0.004522               0.004416           0.004971   \n",
              "std        0.001311       0.004525               0.004629           0.004026   \n",
              "min        0.004532       0.000273               0.000000           0.000000   \n",
              "25%        0.005211       0.002624               0.000000           0.002092   \n",
              "50%        0.005891       0.003759               0.000000           0.004184   \n",
              "75%        0.006797       0.005399               0.009631           0.007322   \n",
              "max        0.010599       0.410037               0.014446           0.018010   \n",
              "\n",
              "        loan_intent    loan_grade     loan_amnt  loan_int_rate  \\\n",
              "count  24435.000000  24435.000000  24435.000000   24435.000000   \n",
              "mean       0.005197      0.005471      0.005343       0.006160   \n",
              "std        0.003730      0.003316      0.003518       0.001726   \n",
              "min        0.000000      0.000000      0.000279       0.003031   \n",
              "25%        0.002222      0.002912      0.002791       0.004748   \n",
              "50%        0.004445      0.005824      0.004466       0.006158   \n",
              "75%        0.008890      0.008735      0.006699       0.007331   \n",
              "max        0.011112      0.017471      0.019537       0.012985   \n",
              "\n",
              "       loan_percent_income  cb_person_default_on_file  \\\n",
              "count         24435.000000               24435.000000   \n",
              "mean              0.005422                   0.005808   \n",
              "std               0.003395                   0.002681   \n",
              "min               0.000000                   0.000000   \n",
              "25%               0.002868                   0.007046   \n",
              "50%               0.004780                   0.007046   \n",
              "75%               0.007329                   0.007046   \n",
              "max               0.026448                   0.007046   \n",
              "\n",
              "       cb_person_cred_hist_length  \n",
              "count                24435.000000  \n",
              "mean                     0.005240  \n",
              "std                      0.003669  \n",
              "min                      0.001800  \n",
              "25%                      0.002700  \n",
              "50%                      0.003599  \n",
              "75%                      0.007199  \n",
              "max                      0.026996  "
            ],
            "text/html": [
              "\n",
              "  <div id=\"df-250759bc-bb9c-4641-bd53-3047362ab95a\">\n",
              "    <div class=\"colab-df-container\">\n",
              "      <div>\n",
              "<style scoped>\n",
              "    .dataframe tbody tr th:only-of-type {\n",
              "        vertical-align: middle;\n",
              "    }\n",
              "\n",
              "    .dataframe tbody tr th {\n",
              "        vertical-align: top;\n",
              "    }\n",
              "\n",
              "    .dataframe thead th {\n",
              "        text-align: right;\n",
              "    }\n",
              "</style>\n",
              "<table border=\"1\" class=\"dataframe\">\n",
              "  <thead>\n",
              "    <tr style=\"text-align: right;\">\n",
              "      <th></th>\n",
              "      <th>person_age</th>\n",
              "      <th>person_income</th>\n",
              "      <th>person_home_ownership</th>\n",
              "      <th>person_emp_length</th>\n",
              "      <th>loan_intent</th>\n",
              "      <th>loan_grade</th>\n",
              "      <th>loan_amnt</th>\n",
              "      <th>loan_int_rate</th>\n",
              "      <th>loan_percent_income</th>\n",
              "      <th>cb_person_default_on_file</th>\n",
              "      <th>cb_person_cred_hist_length</th>\n",
              "    </tr>\n",
              "  </thead>\n",
              "  <tbody>\n",
              "    <tr>\n",
              "      <th>count</th>\n",
              "      <td>24435.000000</td>\n",
              "      <td>24435.000000</td>\n",
              "      <td>24435.000000</td>\n",
              "      <td>24435.000000</td>\n",
              "      <td>24435.000000</td>\n",
              "      <td>24435.000000</td>\n",
              "      <td>24435.000000</td>\n",
              "      <td>24435.000000</td>\n",
              "      <td>24435.000000</td>\n",
              "      <td>24435.000000</td>\n",
              "      <td>24435.000000</td>\n",
              "    </tr>\n",
              "    <tr>\n",
              "      <th>mean</th>\n",
              "      <td>0.006262</td>\n",
              "      <td>0.004522</td>\n",
              "      <td>0.004416</td>\n",
              "      <td>0.004971</td>\n",
              "      <td>0.005197</td>\n",
              "      <td>0.005471</td>\n",
              "      <td>0.005343</td>\n",
              "      <td>0.006160</td>\n",
              "      <td>0.005422</td>\n",
              "      <td>0.005808</td>\n",
              "      <td>0.005240</td>\n",
              "    </tr>\n",
              "    <tr>\n",
              "      <th>std</th>\n",
              "      <td>0.001311</td>\n",
              "      <td>0.004525</td>\n",
              "      <td>0.004629</td>\n",
              "      <td>0.004026</td>\n",
              "      <td>0.003730</td>\n",
              "      <td>0.003316</td>\n",
              "      <td>0.003518</td>\n",
              "      <td>0.001726</td>\n",
              "      <td>0.003395</td>\n",
              "      <td>0.002681</td>\n",
              "      <td>0.003669</td>\n",
              "    </tr>\n",
              "    <tr>\n",
              "      <th>min</th>\n",
              "      <td>0.004532</td>\n",
              "      <td>0.000273</td>\n",
              "      <td>0.000000</td>\n",
              "      <td>0.000000</td>\n",
              "      <td>0.000000</td>\n",
              "      <td>0.000000</td>\n",
              "      <td>0.000279</td>\n",
              "      <td>0.003031</td>\n",
              "      <td>0.000000</td>\n",
              "      <td>0.000000</td>\n",
              "      <td>0.001800</td>\n",
              "    </tr>\n",
              "    <tr>\n",
              "      <th>25%</th>\n",
              "      <td>0.005211</td>\n",
              "      <td>0.002624</td>\n",
              "      <td>0.000000</td>\n",
              "      <td>0.002092</td>\n",
              "      <td>0.002222</td>\n",
              "      <td>0.002912</td>\n",
              "      <td>0.002791</td>\n",
              "      <td>0.004748</td>\n",
              "      <td>0.002868</td>\n",
              "      <td>0.007046</td>\n",
              "      <td>0.002700</td>\n",
              "    </tr>\n",
              "    <tr>\n",
              "      <th>50%</th>\n",
              "      <td>0.005891</td>\n",
              "      <td>0.003759</td>\n",
              "      <td>0.000000</td>\n",
              "      <td>0.004184</td>\n",
              "      <td>0.004445</td>\n",
              "      <td>0.005824</td>\n",
              "      <td>0.004466</td>\n",
              "      <td>0.006158</td>\n",
              "      <td>0.004780</td>\n",
              "      <td>0.007046</td>\n",
              "      <td>0.003599</td>\n",
              "    </tr>\n",
              "    <tr>\n",
              "      <th>75%</th>\n",
              "      <td>0.006797</td>\n",
              "      <td>0.005399</td>\n",
              "      <td>0.009631</td>\n",
              "      <td>0.007322</td>\n",
              "      <td>0.008890</td>\n",
              "      <td>0.008735</td>\n",
              "      <td>0.006699</td>\n",
              "      <td>0.007331</td>\n",
              "      <td>0.007329</td>\n",
              "      <td>0.007046</td>\n",
              "      <td>0.007199</td>\n",
              "    </tr>\n",
              "    <tr>\n",
              "      <th>max</th>\n",
              "      <td>0.010599</td>\n",
              "      <td>0.410037</td>\n",
              "      <td>0.014446</td>\n",
              "      <td>0.018010</td>\n",
              "      <td>0.011112</td>\n",
              "      <td>0.017471</td>\n",
              "      <td>0.019537</td>\n",
              "      <td>0.012985</td>\n",
              "      <td>0.026448</td>\n",
              "      <td>0.007046</td>\n",
              "      <td>0.026996</td>\n",
              "    </tr>\n",
              "  </tbody>\n",
              "</table>\n",
              "</div>\n",
              "      <button class=\"colab-df-convert\" onclick=\"convertToInteractive('df-250759bc-bb9c-4641-bd53-3047362ab95a')\"\n",
              "              title=\"Convert this dataframe to an interactive table.\"\n",
              "              style=\"display:none;\">\n",
              "        \n",
              "  <svg xmlns=\"http://www.w3.org/2000/svg\" height=\"24px\"viewBox=\"0 0 24 24\"\n",
              "       width=\"24px\">\n",
              "    <path d=\"M0 0h24v24H0V0z\" fill=\"none\"/>\n",
              "    <path d=\"M18.56 5.44l.94 2.06.94-2.06 2.06-.94-2.06-.94-.94-2.06-.94 2.06-2.06.94zm-11 1L8.5 8.5l.94-2.06 2.06-.94-2.06-.94L8.5 2.5l-.94 2.06-2.06.94zm10 10l.94 2.06.94-2.06 2.06-.94-2.06-.94-.94-2.06-.94 2.06-2.06.94z\"/><path d=\"M17.41 7.96l-1.37-1.37c-.4-.4-.92-.59-1.43-.59-.52 0-1.04.2-1.43.59L10.3 9.45l-7.72 7.72c-.78.78-.78 2.05 0 2.83L4 21.41c.39.39.9.59 1.41.59.51 0 1.02-.2 1.41-.59l7.78-7.78 2.81-2.81c.8-.78.8-2.07 0-2.86zM5.41 20L4 18.59l7.72-7.72 1.47 1.35L5.41 20z\"/>\n",
              "  </svg>\n",
              "      </button>\n",
              "      \n",
              "  <style>\n",
              "    .colab-df-container {\n",
              "      display:flex;\n",
              "      flex-wrap:wrap;\n",
              "      gap: 12px;\n",
              "    }\n",
              "\n",
              "    .colab-df-convert {\n",
              "      background-color: #E8F0FE;\n",
              "      border: none;\n",
              "      border-radius: 50%;\n",
              "      cursor: pointer;\n",
              "      display: none;\n",
              "      fill: #1967D2;\n",
              "      height: 32px;\n",
              "      padding: 0 0 0 0;\n",
              "      width: 32px;\n",
              "    }\n",
              "\n",
              "    .colab-df-convert:hover {\n",
              "      background-color: #E2EBFA;\n",
              "      box-shadow: 0px 1px 2px rgba(60, 64, 67, 0.3), 0px 1px 3px 1px rgba(60, 64, 67, 0.15);\n",
              "      fill: #174EA6;\n",
              "    }\n",
              "\n",
              "    [theme=dark] .colab-df-convert {\n",
              "      background-color: #3B4455;\n",
              "      fill: #D2E3FC;\n",
              "    }\n",
              "\n",
              "    [theme=dark] .colab-df-convert:hover {\n",
              "      background-color: #434B5C;\n",
              "      box-shadow: 0px 1px 3px 1px rgba(0, 0, 0, 0.15);\n",
              "      filter: drop-shadow(0px 1px 2px rgba(0, 0, 0, 0.3));\n",
              "      fill: #FFFFFF;\n",
              "    }\n",
              "  </style>\n",
              "\n",
              "      <script>\n",
              "        const buttonEl =\n",
              "          document.querySelector('#df-250759bc-bb9c-4641-bd53-3047362ab95a button.colab-df-convert');\n",
              "        buttonEl.style.display =\n",
              "          google.colab.kernel.accessAllowed ? 'block' : 'none';\n",
              "\n",
              "        async function convertToInteractive(key) {\n",
              "          const element = document.querySelector('#df-250759bc-bb9c-4641-bd53-3047362ab95a');\n",
              "          const dataTable =\n",
              "            await google.colab.kernel.invokeFunction('convertToInteractive',\n",
              "                                                     [key], {});\n",
              "          if (!dataTable) return;\n",
              "\n",
              "          const docLinkHtml = 'Like what you see? Visit the ' +\n",
              "            '<a target=\"_blank\" href=https://colab.research.google.com/notebooks/data_table.ipynb>data table notebook</a>'\n",
              "            + ' to learn more about interactive tables.';\n",
              "          element.innerHTML = '';\n",
              "          dataTable['output_type'] = 'display_data';\n",
              "          await google.colab.output.renderOutput(dataTable, element);\n",
              "          const docLink = document.createElement('div');\n",
              "          docLink.innerHTML = docLinkHtml;\n",
              "          element.appendChild(docLink);\n",
              "        }\n",
              "      </script>\n",
              "    </div>\n",
              "  </div>\n",
              "  "
            ]
          },
          "metadata": {},
          "execution_count": 148
        }
      ]
    },
    {
      "cell_type": "code",
      "source": [
        "xtestnorm.describe()"
      ],
      "metadata": {
        "colab": {
          "base_uri": "https://localhost:8080/",
          "height": 364
        },
        "id": "q4b8727ZrI_m",
        "outputId": "0e02a62b-ff79-4a5a-b530-c7e339ce2a14"
      },
      "execution_count": null,
      "outputs": [
        {
          "output_type": "execute_result",
          "data": {
            "text/plain": [
              "        person_age  person_income  person_home_ownership  person_emp_length  \\\n",
              "count  8146.000000    8146.000000            8146.000000        8146.000000   \n",
              "mean      0.010847       0.009012               0.007608           0.008586   \n",
              "std       0.002258       0.006446               0.008055           0.007004   \n",
              "min       0.007868       0.000575               0.000000           0.000000   \n",
              "25%       0.009048       0.005342               0.000000           0.003619   \n",
              "50%       0.010229       0.007534               0.000000           0.007238   \n",
              "75%       0.011802       0.010958               0.016784           0.012666   \n",
              "max       0.018403       0.123282               0.025176           0.031154   \n",
              "\n",
              "       loan_intent   loan_grade    loan_amnt  loan_int_rate  \\\n",
              "count  8146.000000  8146.000000  8146.000000    8146.000000   \n",
              "mean      0.009006     0.009459     0.009240       0.010672   \n",
              "std       0.006455     0.005769     0.006114       0.002978   \n",
              "min       0.000000     0.000000     0.000479       0.005259   \n",
              "25%       0.003843     0.005058     0.004791       0.008072   \n",
              "50%       0.007686     0.010116     0.007666       0.010684   \n",
              "75%       0.015371     0.015174     0.011979       0.012720   \n",
              "max       0.019214     0.030349     0.033540       0.020239   \n",
              "\n",
              "       loan_percent_income  cb_person_default_on_file  \\\n",
              "count          8146.000000                8146.000000   \n",
              "mean              0.009371                   0.010044   \n",
              "std               0.005912                   0.004678   \n",
              "min               0.000550                   0.000000   \n",
              "25%               0.004951                   0.012222   \n",
              "50%               0.008252                   0.012222   \n",
              "75%               0.012652                   0.012222   \n",
              "max               0.042358                   0.012222   \n",
              "\n",
              "       cb_person_cred_hist_length  \n",
              "count                 8146.000000  \n",
              "mean                     0.009104  \n",
              "std                      0.006315  \n",
              "min                      0.003169  \n",
              "25%                      0.004753  \n",
              "50%                      0.006337  \n",
              "75%                      0.012674  \n",
              "max                      0.047528  "
            ],
            "text/html": [
              "\n",
              "  <div id=\"df-ce331125-3504-41b4-862a-72eda42ca3f3\">\n",
              "    <div class=\"colab-df-container\">\n",
              "      <div>\n",
              "<style scoped>\n",
              "    .dataframe tbody tr th:only-of-type {\n",
              "        vertical-align: middle;\n",
              "    }\n",
              "\n",
              "    .dataframe tbody tr th {\n",
              "        vertical-align: top;\n",
              "    }\n",
              "\n",
              "    .dataframe thead th {\n",
              "        text-align: right;\n",
              "    }\n",
              "</style>\n",
              "<table border=\"1\" class=\"dataframe\">\n",
              "  <thead>\n",
              "    <tr style=\"text-align: right;\">\n",
              "      <th></th>\n",
              "      <th>person_age</th>\n",
              "      <th>person_income</th>\n",
              "      <th>person_home_ownership</th>\n",
              "      <th>person_emp_length</th>\n",
              "      <th>loan_intent</th>\n",
              "      <th>loan_grade</th>\n",
              "      <th>loan_amnt</th>\n",
              "      <th>loan_int_rate</th>\n",
              "      <th>loan_percent_income</th>\n",
              "      <th>cb_person_default_on_file</th>\n",
              "      <th>cb_person_cred_hist_length</th>\n",
              "    </tr>\n",
              "  </thead>\n",
              "  <tbody>\n",
              "    <tr>\n",
              "      <th>count</th>\n",
              "      <td>8146.000000</td>\n",
              "      <td>8146.000000</td>\n",
              "      <td>8146.000000</td>\n",
              "      <td>8146.000000</td>\n",
              "      <td>8146.000000</td>\n",
              "      <td>8146.000000</td>\n",
              "      <td>8146.000000</td>\n",
              "      <td>8146.000000</td>\n",
              "      <td>8146.000000</td>\n",
              "      <td>8146.000000</td>\n",
              "      <td>8146.000000</td>\n",
              "    </tr>\n",
              "    <tr>\n",
              "      <th>mean</th>\n",
              "      <td>0.010847</td>\n",
              "      <td>0.009012</td>\n",
              "      <td>0.007608</td>\n",
              "      <td>0.008586</td>\n",
              "      <td>0.009006</td>\n",
              "      <td>0.009459</td>\n",
              "      <td>0.009240</td>\n",
              "      <td>0.010672</td>\n",
              "      <td>0.009371</td>\n",
              "      <td>0.010044</td>\n",
              "      <td>0.009104</td>\n",
              "    </tr>\n",
              "    <tr>\n",
              "      <th>std</th>\n",
              "      <td>0.002258</td>\n",
              "      <td>0.006446</td>\n",
              "      <td>0.008055</td>\n",
              "      <td>0.007004</td>\n",
              "      <td>0.006455</td>\n",
              "      <td>0.005769</td>\n",
              "      <td>0.006114</td>\n",
              "      <td>0.002978</td>\n",
              "      <td>0.005912</td>\n",
              "      <td>0.004678</td>\n",
              "      <td>0.006315</td>\n",
              "    </tr>\n",
              "    <tr>\n",
              "      <th>min</th>\n",
              "      <td>0.007868</td>\n",
              "      <td>0.000575</td>\n",
              "      <td>0.000000</td>\n",
              "      <td>0.000000</td>\n",
              "      <td>0.000000</td>\n",
              "      <td>0.000000</td>\n",
              "      <td>0.000479</td>\n",
              "      <td>0.005259</td>\n",
              "      <td>0.000550</td>\n",
              "      <td>0.000000</td>\n",
              "      <td>0.003169</td>\n",
              "    </tr>\n",
              "    <tr>\n",
              "      <th>25%</th>\n",
              "      <td>0.009048</td>\n",
              "      <td>0.005342</td>\n",
              "      <td>0.000000</td>\n",
              "      <td>0.003619</td>\n",
              "      <td>0.003843</td>\n",
              "      <td>0.005058</td>\n",
              "      <td>0.004791</td>\n",
              "      <td>0.008072</td>\n",
              "      <td>0.004951</td>\n",
              "      <td>0.012222</td>\n",
              "      <td>0.004753</td>\n",
              "    </tr>\n",
              "    <tr>\n",
              "      <th>50%</th>\n",
              "      <td>0.010229</td>\n",
              "      <td>0.007534</td>\n",
              "      <td>0.000000</td>\n",
              "      <td>0.007238</td>\n",
              "      <td>0.007686</td>\n",
              "      <td>0.010116</td>\n",
              "      <td>0.007666</td>\n",
              "      <td>0.010684</td>\n",
              "      <td>0.008252</td>\n",
              "      <td>0.012222</td>\n",
              "      <td>0.006337</td>\n",
              "    </tr>\n",
              "    <tr>\n",
              "      <th>75%</th>\n",
              "      <td>0.011802</td>\n",
              "      <td>0.010958</td>\n",
              "      <td>0.016784</td>\n",
              "      <td>0.012666</td>\n",
              "      <td>0.015371</td>\n",
              "      <td>0.015174</td>\n",
              "      <td>0.011979</td>\n",
              "      <td>0.012720</td>\n",
              "      <td>0.012652</td>\n",
              "      <td>0.012222</td>\n",
              "      <td>0.012674</td>\n",
              "    </tr>\n",
              "    <tr>\n",
              "      <th>max</th>\n",
              "      <td>0.018403</td>\n",
              "      <td>0.123282</td>\n",
              "      <td>0.025176</td>\n",
              "      <td>0.031154</td>\n",
              "      <td>0.019214</td>\n",
              "      <td>0.030349</td>\n",
              "      <td>0.033540</td>\n",
              "      <td>0.020239</td>\n",
              "      <td>0.042358</td>\n",
              "      <td>0.012222</td>\n",
              "      <td>0.047528</td>\n",
              "    </tr>\n",
              "  </tbody>\n",
              "</table>\n",
              "</div>\n",
              "      <button class=\"colab-df-convert\" onclick=\"convertToInteractive('df-ce331125-3504-41b4-862a-72eda42ca3f3')\"\n",
              "              title=\"Convert this dataframe to an interactive table.\"\n",
              "              style=\"display:none;\">\n",
              "        \n",
              "  <svg xmlns=\"http://www.w3.org/2000/svg\" height=\"24px\"viewBox=\"0 0 24 24\"\n",
              "       width=\"24px\">\n",
              "    <path d=\"M0 0h24v24H0V0z\" fill=\"none\"/>\n",
              "    <path d=\"M18.56 5.44l.94 2.06.94-2.06 2.06-.94-2.06-.94-.94-2.06-.94 2.06-2.06.94zm-11 1L8.5 8.5l.94-2.06 2.06-.94-2.06-.94L8.5 2.5l-.94 2.06-2.06.94zm10 10l.94 2.06.94-2.06 2.06-.94-2.06-.94-.94-2.06-.94 2.06-2.06.94z\"/><path d=\"M17.41 7.96l-1.37-1.37c-.4-.4-.92-.59-1.43-.59-.52 0-1.04.2-1.43.59L10.3 9.45l-7.72 7.72c-.78.78-.78 2.05 0 2.83L4 21.41c.39.39.9.59 1.41.59.51 0 1.02-.2 1.41-.59l7.78-7.78 2.81-2.81c.8-.78.8-2.07 0-2.86zM5.41 20L4 18.59l7.72-7.72 1.47 1.35L5.41 20z\"/>\n",
              "  </svg>\n",
              "      </button>\n",
              "      \n",
              "  <style>\n",
              "    .colab-df-container {\n",
              "      display:flex;\n",
              "      flex-wrap:wrap;\n",
              "      gap: 12px;\n",
              "    }\n",
              "\n",
              "    .colab-df-convert {\n",
              "      background-color: #E8F0FE;\n",
              "      border: none;\n",
              "      border-radius: 50%;\n",
              "      cursor: pointer;\n",
              "      display: none;\n",
              "      fill: #1967D2;\n",
              "      height: 32px;\n",
              "      padding: 0 0 0 0;\n",
              "      width: 32px;\n",
              "    }\n",
              "\n",
              "    .colab-df-convert:hover {\n",
              "      background-color: #E2EBFA;\n",
              "      box-shadow: 0px 1px 2px rgba(60, 64, 67, 0.3), 0px 1px 3px 1px rgba(60, 64, 67, 0.15);\n",
              "      fill: #174EA6;\n",
              "    }\n",
              "\n",
              "    [theme=dark] .colab-df-convert {\n",
              "      background-color: #3B4455;\n",
              "      fill: #D2E3FC;\n",
              "    }\n",
              "\n",
              "    [theme=dark] .colab-df-convert:hover {\n",
              "      background-color: #434B5C;\n",
              "      box-shadow: 0px 1px 3px 1px rgba(0, 0, 0, 0.15);\n",
              "      filter: drop-shadow(0px 1px 2px rgba(0, 0, 0, 0.3));\n",
              "      fill: #FFFFFF;\n",
              "    }\n",
              "  </style>\n",
              "\n",
              "      <script>\n",
              "        const buttonEl =\n",
              "          document.querySelector('#df-ce331125-3504-41b4-862a-72eda42ca3f3 button.colab-df-convert');\n",
              "        buttonEl.style.display =\n",
              "          google.colab.kernel.accessAllowed ? 'block' : 'none';\n",
              "\n",
              "        async function convertToInteractive(key) {\n",
              "          const element = document.querySelector('#df-ce331125-3504-41b4-862a-72eda42ca3f3');\n",
              "          const dataTable =\n",
              "            await google.colab.kernel.invokeFunction('convertToInteractive',\n",
              "                                                     [key], {});\n",
              "          if (!dataTable) return;\n",
              "\n",
              "          const docLinkHtml = 'Like what you see? Visit the ' +\n",
              "            '<a target=\"_blank\" href=https://colab.research.google.com/notebooks/data_table.ipynb>data table notebook</a>'\n",
              "            + ' to learn more about interactive tables.';\n",
              "          element.innerHTML = '';\n",
              "          dataTable['output_type'] = 'display_data';\n",
              "          await google.colab.output.renderOutput(dataTable, element);\n",
              "          const docLink = document.createElement('div');\n",
              "          docLink.innerHTML = docLinkHtml;\n",
              "          element.appendChild(docLink);\n",
              "        }\n",
              "      </script>\n",
              "    </div>\n",
              "  </div>\n",
              "  "
            ]
          },
          "metadata": {},
          "execution_count": 149
        }
      ]
    },
    {
      "cell_type": "markdown",
      "source": [
        "Our xtest and xtrain variables are normalized and we can see that all the values are between 0 and 1"
      ],
      "metadata": {
        "id": "GDCVAVchrPEF"
      }
    },
    {
      "cell_type": "markdown",
      "source": [
        "##Logistic Regression model"
      ],
      "metadata": {
        "id": "jda26cxKrod_"
      }
    },
    {
      "cell_type": "code",
      "source": [
        "#Logistic Regression model and predicting ytest values\n",
        "m=LogisticRegression(random_state=1)\n",
        "m.fit(xtrainnorm,ytrain)\n",
        "ypred=m.predict(xtestnorm)"
      ],
      "metadata": {
        "id": "SUjEKb4griA4"
      },
      "execution_count": null,
      "outputs": []
    },
    {
      "cell_type": "code",
      "source": [
        "#priting accouracy ,recall and other metrices\n",
        "print(classification_report(ytest,ypred))"
      ],
      "metadata": {
        "id": "U_GTrsEEs4I6",
        "colab": {
          "base_uri": "https://localhost:8080/"
        },
        "outputId": "787cae35-e731-44e6-ecb4-0405da46c0b5"
      },
      "execution_count": null,
      "outputs": [
        {
          "output_type": "stream",
          "name": "stdout",
          "text": [
            "              precision    recall  f1-score   support\n",
            "\n",
            "           0       0.78      1.00      0.87      6330\n",
            "           1       0.00      0.00      0.00      1816\n",
            "\n",
            "    accuracy                           0.78      8146\n",
            "   macro avg       0.39      0.50      0.44      8146\n",
            "weighted avg       0.60      0.78      0.68      8146\n",
            "\n"
          ]
        },
        {
          "output_type": "stream",
          "name": "stderr",
          "text": [
            "/usr/local/lib/python3.7/dist-packages/sklearn/metrics/_classification.py:1318: UndefinedMetricWarning: Precision and F-score are ill-defined and being set to 0.0 in labels with no predicted samples. Use `zero_division` parameter to control this behavior.\n",
            "  _warn_prf(average, modifier, msg_start, len(result))\n",
            "/usr/local/lib/python3.7/dist-packages/sklearn/metrics/_classification.py:1318: UndefinedMetricWarning: Precision and F-score are ill-defined and being set to 0.0 in labels with no predicted samples. Use `zero_division` parameter to control this behavior.\n",
            "  _warn_prf(average, modifier, msg_start, len(result))\n",
            "/usr/local/lib/python3.7/dist-packages/sklearn/metrics/_classification.py:1318: UndefinedMetricWarning: Precision and F-score are ill-defined and being set to 0.0 in labels with no predicted samples. Use `zero_division` parameter to control this behavior.\n",
            "  _warn_prf(average, modifier, msg_start, len(result))\n"
          ]
        }
      ]
    },
    {
      "cell_type": "code",
      "source": [
        "#confusion matrix\n",
        "confusion = confusion_matrix(ytest,ypred)\n",
        "cgraph=sns.heatmap(confusion,annot=True,fmt='.0f',cmap='Blues',xticklabels=['False','True'],yticklabels=['False','True'])\n",
        "cgraph.set_title(\"Confusion matrix\")\n",
        "cgraph.set_xlabel(\"Predicted\")\n",
        "cgraph.set_ylabel(\"Present\")\n",
        "plt.show()"
      ],
      "metadata": {
        "colab": {
          "base_uri": "https://localhost:8080/",
          "height": 54
        },
        "id": "OGAgsFVQtOMD",
        "outputId": "b63da718-5157-4a85-9d46-5762764f53c0"
      },
      "execution_count": null,
      "outputs": [
        {
          "output_type": "display_data",
          "data": {
            "text/plain": [
              "<Figure size 432x288 with 2 Axes>"
            ],
            "image/png": "[encoded data removed]"
          },
          "metadata": {
            "needs_background": "light"
          }
        }
      ]
    },
    {
      "cell_type": "markdown",
      "source": [
        "From the above confusion matrix we see that even if the accuracy of the model is 78% our model is predicting that all the output as 0 and it fails to predict any 1's. This is due to a case that we had seen earlier that our target variable is imbalanced.\n"
      ],
      "metadata": {
        "id": "ulQPhqn_yEmW"
      }
    },
    {
      "cell_type": "markdown",
      "source": [
        "##SMOTE over sampling"
      ],
      "metadata": {
        "id": "C7i3DLZ-AOnX"
      }
    },
    {
      "cell_type": "code",
      "source": [
        "#prediction using oversampling method\n",
        "sm=SMOTE(random_state=2)\n",
        "xover,yover=sm.fit_resample(xtrainnorm,ytrain)"
      ],
      "metadata": {
        "id": "mTdtJQQktnyy"
      },
      "execution_count": null,
      "outputs": []
    },
    {
      "cell_type": "code",
      "source": [
        "#count of 0 and 1 before over sampling\n",
        "ytrain.value_counts()"
      ],
      "metadata": {
        "colab": {
          "base_uri": "https://localhost:8080/"
        },
        "id": "5qLwcTm94iDS",
        "outputId": "a94d7345-87a2-4d8b-fdc8-24b3c3e117f7"
      },
      "execution_count": null,
      "outputs": [
        {
          "output_type": "execute_result",
          "data": {
            "text/plain": [
              "0    19143\n",
              "1     5292\n",
              "Name: loan_status, dtype: int64"
            ]
          },
          "metadata": {},
          "execution_count": 154
        }
      ]
    },
    {
      "cell_type": "code",
      "source": [
        "#count of 0 and 1 after over sampling\n",
        "yover.value_counts()"
      ],
      "metadata": {
        "colab": {
          "base_uri": "https://localhost:8080/"
        },
        "id": "WJiZspM34hdX",
        "outputId": "67331ed8-dded-44af-8117-443b9b62464a"
      },
      "execution_count": null,
      "outputs": [
        {
          "output_type": "execute_result",
          "data": {
            "text/plain": [
              "0    19143\n",
              "1    19143\n",
              "Name: loan_status, dtype: int64"
            ]
          },
          "metadata": {},
          "execution_count": 155
        }
      ]
    },
    {
      "cell_type": "code",
      "source": [
        "#applying the over sample data to logistic regression\n",
        "m.fit(xover,yover)\n",
        "ypred=m.predict(xtestnorm)"
      ],
      "metadata": {
        "id": "OaGg7-ct60pI"
      },
      "execution_count": null,
      "outputs": []
    },
    {
      "cell_type": "code",
      "source": [
        "print(classification_report(ytest,ypred))"
      ],
      "metadata": {
        "colab": {
          "base_uri": "https://localhost:8080/"
        },
        "id": "3o760O3G76bR",
        "outputId": "30d8cf8a-80f9-4603-9fd7-c3f2fb03ca43"
      },
      "execution_count": null,
      "outputs": [
        {
          "output_type": "stream",
          "name": "stdout",
          "text": [
            "              precision    recall  f1-score   support\n",
            "\n",
            "           0       0.90      0.68      0.77      6330\n",
            "           1       0.40      0.75      0.52      1816\n",
            "\n",
            "    accuracy                           0.69      8146\n",
            "   macro avg       0.65      0.71      0.65      8146\n",
            "weighted avg       0.79      0.69      0.72      8146\n",
            "\n"
          ]
        }
      ]
    },
    {
      "cell_type": "code",
      "source": [
        "confusion = confusion_matrix(ytest,ypred)\n",
        "cgraph=sns.heatmap(confusion,annot=True,fmt='.0f',cmap='Blues',xticklabels=['False','True'],yticklabels=['False','True'])\n",
        "cgraph.set_title(\"Confusion matrix\")\n",
        "cgraph.set_xlabel(\"Predicted\")\n",
        "cgraph.set_ylabel(\"Present\")\n",
        "plt.show()"
      ],
      "metadata": {
        "colab": {
          "base_uri": "https://localhost:8080/",
          "height": 295
        },
        "id": "ACHiNIqF7jiU",
        "outputId": "e44ec41e-5fdc-4d57-d6bb-155626f789f0"
      },
      "execution_count": null,
      "outputs": [
        {
          "output_type": "display_data",
          "data": {
            "text/plain": [
              "<Figure size 432x288 with 2 Axes>"
            ],
            "image/png": "[encoded data removed]"
          },
          "metadata": {
            "needs_background": "light"
          }
        }
      ]
    },
    {
      "cell_type": "markdown",
      "source": [
        "Though our accuracy dropped, which was expected, our recall vaue for the minority classification 1 has increased very much and hence this model is reliable."
      ],
      "metadata": {
        "id": "nXiTksKs-4Lh"
      }
    },
    {
      "cell_type": "markdown",
      "source": [
        "##NearMiss undersampling"
      ],
      "metadata": {
        "id": "vaahnYa4Atwy"
      }
    },
    {
      "cell_type": "code",
      "source": [
        "#prediction using undersampling method\n",
        "nm=NearMiss()\n",
        "xunder,yunder=nm.fit_resample(xtrainnorm,ytrain)"
      ],
      "metadata": {
        "id": "VUKCnkrMAxAE"
      },
      "execution_count": null,
      "outputs": []
    },
    {
      "cell_type": "code",
      "source": [
        "#count of 0 and 1 before undersampling sampling\n",
        "ytrain.value_counts()"
      ],
      "metadata": {
        "colab": {
          "base_uri": "https://localhost:8080/"
        },
        "id": "Nd8RfdHUCQiy",
        "outputId": "e5f91c31-862f-453e-a50f-096b28cd777b"
      },
      "execution_count": null,
      "outputs": [
        {
          "output_type": "execute_result",
          "data": {
            "text/plain": [
              "0    19143\n",
              "1     5292\n",
              "Name: loan_status, dtype: int64"
            ]
          },
          "metadata": {},
          "execution_count": 160
        }
      ]
    },
    {
      "cell_type": "code",
      "source": [
        "#count of 0 and 1 after undersampling sampling\n",
        "yunder.value_counts()"
      ],
      "metadata": {
        "colab": {
          "base_uri": "https://localhost:8080/"
        },
        "id": "5AWd-swoCRYW",
        "outputId": "6bac7306-9923-4304-e558-8c88e2c30ca7"
      },
      "execution_count": null,
      "outputs": [
        {
          "output_type": "execute_result",
          "data": {
            "text/plain": [
              "0    5292\n",
              "1    5292\n",
              "Name: loan_status, dtype: int64"
            ]
          },
          "metadata": {},
          "execution_count": 161
        }
      ]
    },
    {
      "cell_type": "code",
      "source": [
        "#applying the over sample data to logistic regression\n",
        "m.fit(xunder,yunder)\n",
        "ypred=m.predict(xtestnorm)"
      ],
      "metadata": {
        "id": "5EUL7ekgBH7X"
      },
      "execution_count": null,
      "outputs": []
    },
    {
      "cell_type": "code",
      "source": [
        "print(classification_report(ytest,ypred))"
      ],
      "metadata": {
        "colab": {
          "base_uri": "https://localhost:8080/"
        },
        "id": "FYu97udABX0G",
        "outputId": "0b8a9475-6198-474a-8fde-9a3ec1c2e6e5"
      },
      "execution_count": null,
      "outputs": [
        {
          "output_type": "stream",
          "name": "stdout",
          "text": [
            "              precision    recall  f1-score   support\n",
            "\n",
            "           0       0.92      0.23      0.37      6330\n",
            "           1       0.26      0.94      0.40      1816\n",
            "\n",
            "    accuracy                           0.39      8146\n",
            "   macro avg       0.59      0.58      0.38      8146\n",
            "weighted avg       0.78      0.39      0.37      8146\n",
            "\n"
          ]
        }
      ]
    },
    {
      "cell_type": "code",
      "source": [
        "confusion = confusion_matrix(ytest,ypred)\n",
        "cgraph=sns.heatmap(confusion,annot=True,fmt='.0f',cmap='Blues',xticklabels=['False','True'],yticklabels=['False','True'])\n",
        "cgraph.set_title(\"Confusion matrix\")\n",
        "cgraph.set_xlabel(\"Predicted\")\n",
        "cgraph.set_ylabel(\"Present\")\n",
        "plt.show()"
      ],
      "metadata": {
        "colab": {
          "base_uri": "https://localhost:8080/",
          "height": 54
        },
        "id": "fgu2MaGqBg54",
        "outputId": "a96d7a02-b6f0-4c3b-da6d-f80304759e57"
      },
      "execution_count": null,
      "outputs": [
        {
          "output_type": "display_data",
          "data": {
            "text/plain": [
              "<Figure size 432x288 with 2 Axes>"
            ],
            "image/png": "[encoded data removed]"
          },
          "metadata": {
            "needs_background": "light"
          }
        }
      ]
    },
    {
      "cell_type": "markdown",
      "source": [
        "We see that our accuracy is very bad 39% but our recall for minority class is very high 1, bit the majority class is ignored 23%. This model cannot be considered, we will be considering oversampled method where we had better accuracy"
      ],
      "metadata": {
        "id": "uJglM0z2Cb0X"
      }
    }
  ]
}